{
  "nbformat": 4,
  "nbformat_minor": 0,
  "metadata": {
    "colab": {
      "name": "coin_problem_image_data_generator.ipynb",
      "provenance": [],
      "collapsed_sections": []
    },
    "kernelspec": {
      "name": "python3",
      "display_name": "Python 3"
    },
    "accelerator": "GPU"
  },
  "cells": [
    {
      "cell_type": "code",
      "metadata": {
        "id": "4k8H3jXYoC9G",
        "colab_type": "code",
        "colab": {}
      },
      "source": [
        "  from google.colab import drive\n",
        "drive.mount('/content/drive')"
      ],
      "execution_count": 0,
      "outputs": []
    },
    {
      "cell_type": "markdown",
      "metadata": {
        "id": "5zJs-6vD6Z5E",
        "colab_type": "text"
      },
      "source": [
        "## **Change directry to where training data is save....**"
      ]
    },
    {
      "cell_type": "code",
      "metadata": {
        "id": "yTzTxNZFo0w4",
        "colab_type": "code",
        "outputId": "ed01e6e6-8b6c-4e6b-d3a9-5e34155e3ff9",
        "colab": {
          "base_uri": "https://localhost:8080/",
          "height": 126
        }
      },
      "source": [
        "import os\n",
        "os.chdir(\"/content/drive/My Drive/Colab Notebooks/coin_train_x\")\n",
        "!ls"
      ],
      "execution_count": 0,
      "outputs": [
        {
          "output_type": "stream",
          "text": [
            "1   15\t20  26\t31  8\t\t\t\t model_400_400_10_vgg19.h5\n",
            "10  16\t21  27\t32  9\t\t\t\t model_400_400_170_resnet50.h5\n",
            "11  17\t22  28\t4   model_256_256_8_vgg16.h5\n",
            "12  18\t23  29\t5   model_256_256_resnet.h5\n",
            "13  19\t24  3\t6   model_300_400_11_vgg19_2.h5\n",
            "14  2\t25  30\t7   model_300_400_11_vgg19.h5\n"
          ],
          "name": "stdout"
        }
      ]
    },
    {
      "cell_type": "markdown",
      "metadata": {
        "id": "sPa4Kjtr-rk5",
        "colab_type": "text"
      },
      "source": [
        "*Import libraries like\n",
        "numpy for make matrix..,\n",
        "pandas for reading csv file,\n",
        "csv for make a csv file,\n",
        "matplotlib.pyplot for ploting and visualization,\n",
        "ImageDataGenerator for making traing and test data,\n",
        "os to change directry.*"
      ]
    },
    {
      "cell_type": "code",
      "metadata": {
        "id": "d4WVBWAwpWy5",
        "colab_type": "code",
        "outputId": "944c8adb-cb93-43f5-b775-251888ed7325",
        "colab": {
          "base_uri": "https://localhost:8080/",
          "height": 35
        }
      },
      "source": [
        "import numpy as np\n",
        "import pandas as pd\n",
        "import csv\n",
        "import cv2\n",
        "import matplotlib.pyplot as plt\n",
        "from keras.preprocessing.image import ImageDataGenerator"
      ],
      "execution_count": 0,
      "outputs": [
        {
          "output_type": "stream",
          "text": [
            "Using TensorFlow backend.\n"
          ],
          "name": "stderr"
        }
      ]
    },
    {
      "cell_type": "markdown",
      "metadata": {
        "id": "OMCmU95kBTY6",
        "colab_type": "text"
      },
      "source": [
        "made a datagenerator"
      ]
    },
    {
      "cell_type": "code",
      "metadata": {
        "id": "scy6qMhmp3Fx",
        "colab_type": "code",
        "colab": {}
      },
      "source": [
        "datagen = ImageDataGenerator(rescale=1./255,\n",
        "                            shear_range=0.3,\n",
        "                            zoom_range=0.3,\n",
        "                            horizontal_flip=True,\n",
        "                            validation_split=0.2)"
      ],
      "execution_count": 0,
      "outputs": []
    },
    {
      "cell_type": "markdown",
      "metadata": {
        "id": "h9qFdfHsBazl",
        "colab_type": "text"
      },
      "source": [
        "split the training data in train and validation \n",
        "and the parameter batch size = 32\n",
        "and resize the image to (256,256,3)\n"
      ]
    },
    {
      "cell_type": "code",
      "metadata": {
        "id": "UnfnddM8q_rG",
        "colab_type": "code",
        "outputId": "2c5e9c5f-3666-491e-d811-7d6f18f8a467",
        "colab": {
          "base_uri": "https://localhost:8080/",
          "height": 244
        }
      },
      "source": [
        "batch_size = 32\n",
        "img_shape = (256,256,3)\n",
        "img_hight = 256\n",
        "img_width = 256\n",
        "train_data = datagen.flow_from_directory('/content/drive/My Drive/Colab Notebooks/coin_train_x',\n",
        "                                    target_size = (img_width,img_hight),\n",
        "                                    class_mode = 'categorical',\n",
        "                                    batch_size=batch_size,\n",
        "                                    shuffle=True,\n",
        "                                   subset='training')\n",
        "\n",
        "validation_data = datagen.flow_from_directory('/content/drive/My Drive/Colab Notebooks/coin_train_x',\n",
        "                                             target_size=(img_width,img_hight),\n",
        "                                             class_mode='categorical',\n",
        "                                             batch_size=batch_size,\n",
        "                                             shuffle=True,\n",
        "                                              subset='validation')"
      ],
      "execution_count": 0,
      "outputs": [
        {
          "output_type": "error",
          "ename": "NameError",
          "evalue": "ignored",
          "traceback": [
            "\u001b[0;31m---------------------------------------------------------------------------\u001b[0m",
            "\u001b[0;31mNameError\u001b[0m                                 Traceback (most recent call last)",
            "\u001b[0;32m<ipython-input-4-08c76f604f99>\u001b[0m in \u001b[0;36m<module>\u001b[0;34m()\u001b[0m\n\u001b[1;32m      3\u001b[0m \u001b[0mimg_hight\u001b[0m \u001b[0;34m=\u001b[0m \u001b[0;36m256\u001b[0m\u001b[0;34m\u001b[0m\u001b[0;34m\u001b[0m\u001b[0m\n\u001b[1;32m      4\u001b[0m \u001b[0mimg_width\u001b[0m \u001b[0;34m=\u001b[0m \u001b[0;36m256\u001b[0m\u001b[0;34m\u001b[0m\u001b[0;34m\u001b[0m\u001b[0m\n\u001b[0;32m----> 5\u001b[0;31m train_data = datagen.flow_from_directory('/content/drive/My Drive/Colab Notebooks/coin_train_x',\n\u001b[0m\u001b[1;32m      6\u001b[0m                                     \u001b[0mtarget_size\u001b[0m \u001b[0;34m=\u001b[0m \u001b[0;34m(\u001b[0m\u001b[0mimg_width\u001b[0m\u001b[0;34m,\u001b[0m\u001b[0mimg_hight\u001b[0m\u001b[0;34m)\u001b[0m\u001b[0;34m,\u001b[0m\u001b[0;34m\u001b[0m\u001b[0;34m\u001b[0m\u001b[0m\n\u001b[1;32m      7\u001b[0m                                     \u001b[0mclass_mode\u001b[0m \u001b[0;34m=\u001b[0m \u001b[0;34m'categorical'\u001b[0m\u001b[0;34m,\u001b[0m\u001b[0;34m\u001b[0m\u001b[0;34m\u001b[0m\u001b[0m\n",
            "\u001b[0;31mNameError\u001b[0m: name 'datagen' is not defined"
          ]
        }
      ]
    },
    {
      "cell_type": "code",
      "metadata": {
        "id": "Zn71Qv-LrPnd",
        "colab_type": "code",
        "colab": {}
      },
      "source": [
        "import keras\n",
        "from keras.models import Sequential\n",
        "from keras.layers import Dense,Dropout,Flatten,BatchNormalization\n",
        "from keras.layers import Conv2D,MaxPooling2D,GlobalAveragePooling2D"
      ],
      "execution_count": 0,
      "outputs": []
    },
    {
      "cell_type": "markdown",
      "metadata": {
        "id": "XzkfJWyUCBGh",
        "colab_type": "text"
      },
      "source": [
        ""
      ]
    },
    {
      "cell_type": "code",
      "metadata": {
        "id": "A7L48lvXthuL",
        "colab_type": "code",
        "outputId": "70ee819d-168e-499a-dab0-6316158cf875",
        "colab": {
          "base_uri": "https://localhost:8080/",
          "height": 292
        }
      },
      "source": [
        "model = Sequential()\n",
        "model.add(Conv2D(64,kernel_size=(3,3),activation='relu',padding='same',input_shape=img_shape))\n",
        "model.add(BatchNormalization(axis=-1))\n",
        "#model.add(Dropout(0.25))\n",
        "model.add(MaxPooling2D(pool_size=(2,2)))\n",
        "model.add(Conv2D(64,kernel_size=(3,3),activation='relu',padding='same'))\n",
        "model.add(BatchNormalization(axis=-1))\n",
        "#model.add(MaxPooling2D(pool_size=(2, 2)))\n",
        "#model.add(Dropout(0.25))\n",
        "\n",
        "model.add(Conv2D(64,kernel_size=(3,3),activation='relu',padding='same'))\n",
        "model.add(BatchNormalization(axis=-1))\n",
        "#model.add(Dropout(0.25))\n",
        "model.add(MaxPooling2D(pool_size=(2, 2)))\n",
        "\n",
        "model.add(Conv2D(128,kernel_size=(3,3),activation='relu',padding='same'))\n",
        "model.add(BatchNormalization(axis=-1))\n",
        "#model.add(MaxPooling2D(pool_size=(2, 2)))\n",
        "#model.add(Dropout(0.25))\n",
        "\n",
        "model.add(Conv2D(128,kernel_size=(3,3),activation='relu',padding='same'))\n",
        "model.add(BatchNormalization(axis=-1))\n",
        "#model.add(Dropout(0.25))\n",
        "\n",
        "model.add(Conv2D(128,kernel_size=(3,3),activation='relu',padding='same'))\n",
        "model.add(BatchNormalization(axis=-1))\n",
        "model.add(MaxPooling2D(pool_size=(2, 2)))\n",
        "#model.add(Dropout(0.25))\n",
        "\n",
        "model.add(Conv2D(256,kernel_size=(3,3),activation='relu',padding='same'))\n",
        "model.add(BatchNormalization(axis=-1))\n",
        "#model.add(Dropout(0.25))\n",
        "\n",
        "model.add(Conv2D(256,kernel_size=(3,3),activation='relu',padding='same'))\n",
        "model.add(BatchNormalization(axis=-1))\n",
        "#model.add(MaxPooling2D(pool_size=(2, 2)))\n",
        "#model.add(Dropout(0.25))\n",
        "\n",
        "model.add(Conv2D(256,kernel_size=(3,3),activation='relu',padding='same'))\n",
        "model.add(BatchNormalization(axis=-1))\n",
        "#model.add(Dropout(0.25))\n",
        "model.add(MaxPooling2D(pool_size=(2, 2)))\n",
        "\n",
        "model.add(Conv2D(512,kernel_size=(3,3),activation='relu',padding='same'))\n",
        "model.add(BatchNormalization(axis=-1))\n",
        "\n",
        "model.add(Conv2D(512,kernel_size=(3,3),activation='relu',padding='same'))\n",
        "model.add(BatchNormalization(axis=-1))\n",
        "\n",
        "model.add(MaxPooling2D(pool_size=(2,2)))\n",
        "\n",
        "model.add(Conv2D(512,kernel_size=(3,3),activation='relu',padding='same'))\n",
        "model.add(BatchNormalization(axis=-1))\n",
        "\n",
        "model.add(Conv2D(512,kernel_size=(3,3),activation='relu',padding='same'))\n",
        "model.add(BatchNormalization(axis=-1))\n",
        "\n",
        "#model.add(BatchNormalization(axis=-1))\n",
        "model.add(MaxPooling2D(pool_size=(2, 2)))\n",
        "#model.add(Dropout(0.25))\n",
        "model.add(GlobalAveragePooling2D())\n",
        "model.add(Dense(32,activation='softmax'))"
      ],
      "execution_count": 0,
      "outputs": [
        {
          "output_type": "stream",
          "text": [
            "WARNING:tensorflow:From /usr/local/lib/python3.6/dist-packages/keras/backend/tensorflow_backend.py:66: The name tf.get_default_graph is deprecated. Please use tf.compat.v1.get_default_graph instead.\n",
            "\n",
            "WARNING:tensorflow:From /usr/local/lib/python3.6/dist-packages/keras/backend/tensorflow_backend.py:541: The name tf.placeholder is deprecated. Please use tf.compat.v1.placeholder instead.\n",
            "\n",
            "WARNING:tensorflow:From /usr/local/lib/python3.6/dist-packages/keras/backend/tensorflow_backend.py:4432: The name tf.random_uniform is deprecated. Please use tf.random.uniform instead.\n",
            "\n",
            "WARNING:tensorflow:From /usr/local/lib/python3.6/dist-packages/keras/backend/tensorflow_backend.py:190: The name tf.get_default_session is deprecated. Please use tf.compat.v1.get_default_session instead.\n",
            "\n",
            "WARNING:tensorflow:From /usr/local/lib/python3.6/dist-packages/keras/backend/tensorflow_backend.py:197: The name tf.ConfigProto is deprecated. Please use tf.compat.v1.ConfigProto instead.\n",
            "\n",
            "WARNING:tensorflow:From /usr/local/lib/python3.6/dist-packages/keras/backend/tensorflow_backend.py:2041: The name tf.nn.fused_batch_norm is deprecated. Please use tf.compat.v1.nn.fused_batch_norm instead.\n",
            "\n",
            "WARNING:tensorflow:From /usr/local/lib/python3.6/dist-packages/keras/backend/tensorflow_backend.py:4267: The name tf.nn.max_pool is deprecated. Please use tf.nn.max_pool2d instead.\n",
            "\n"
          ],
          "name": "stdout"
        }
      ]
    },
    {
      "cell_type": "markdown",
      "metadata": {
        "id": "Fd-a6-pGCaQ2",
        "colab_type": "text"
      },
      "source": [
        "*Set the layer of model to be trained*"
      ]
    },
    {
      "cell_type": "code",
      "metadata": {
        "id": "TXzCdlAd3gOT",
        "colab_type": "code",
        "colab": {}
      },
      "source": [
        "# trainable_layers = 8\n",
        "# for layer in base_model.layers[:trainable_layers]:\n",
        "#   layer.trainable=False\n",
        "# for layer in base_model.layers[trainable_layers:]:\n",
        "#   layer.trainable=True"
      ],
      "execution_count": 0,
      "outputs": []
    },
    {
      "cell_type": "markdown",
      "metadata": {
        "id": "pkI8hocCCpVR",
        "colab_type": "text"
      },
      "source": [
        "*Print the summary about the VGG19 model*"
      ]
    },
    {
      "cell_type": "code",
      "metadata": {
        "id": "GQVrH-4_awpO",
        "colab_type": "code",
        "outputId": "f05a47ee-b4a2-46e5-eb33-146ee9770a40",
        "colab": {
          "base_uri": "https://localhost:8080/",
          "height": 1000
        }
      },
      "source": [
        "model.summary()"
      ],
      "execution_count": 0,
      "outputs": [
        {
          "output_type": "stream",
          "text": [
            "Model: \"sequential_1\"\n",
            "_________________________________________________________________\n",
            "Layer (type)                 Output Shape              Param #   \n",
            "=================================================================\n",
            "conv2d_1 (Conv2D)            (None, 256, 256, 64)      1792      \n",
            "_________________________________________________________________\n",
            "batch_normalization_1 (Batch (None, 256, 256, 64)      256       \n",
            "_________________________________________________________________\n",
            "max_pooling2d_1 (MaxPooling2 (None, 128, 128, 64)      0         \n",
            "_________________________________________________________________\n",
            "conv2d_2 (Conv2D)            (None, 128, 128, 64)      36928     \n",
            "_________________________________________________________________\n",
            "batch_normalization_2 (Batch (None, 128, 128, 64)      256       \n",
            "_________________________________________________________________\n",
            "conv2d_3 (Conv2D)            (None, 128, 128, 64)      36928     \n",
            "_________________________________________________________________\n",
            "batch_normalization_3 (Batch (None, 128, 128, 64)      256       \n",
            "_________________________________________________________________\n",
            "max_pooling2d_2 (MaxPooling2 (None, 64, 64, 64)        0         \n",
            "_________________________________________________________________\n",
            "conv2d_4 (Conv2D)            (None, 64, 64, 128)       73856     \n",
            "_________________________________________________________________\n",
            "batch_normalization_4 (Batch (None, 64, 64, 128)       512       \n",
            "_________________________________________________________________\n",
            "conv2d_5 (Conv2D)            (None, 64, 64, 128)       147584    \n",
            "_________________________________________________________________\n",
            "batch_normalization_5 (Batch (None, 64, 64, 128)       512       \n",
            "_________________________________________________________________\n",
            "conv2d_6 (Conv2D)            (None, 64, 64, 128)       147584    \n",
            "_________________________________________________________________\n",
            "batch_normalization_6 (Batch (None, 64, 64, 128)       512       \n",
            "_________________________________________________________________\n",
            "max_pooling2d_3 (MaxPooling2 (None, 32, 32, 128)       0         \n",
            "_________________________________________________________________\n",
            "conv2d_7 (Conv2D)            (None, 32, 32, 256)       295168    \n",
            "_________________________________________________________________\n",
            "batch_normalization_7 (Batch (None, 32, 32, 256)       1024      \n",
            "_________________________________________________________________\n",
            "conv2d_8 (Conv2D)            (None, 32, 32, 256)       590080    \n",
            "_________________________________________________________________\n",
            "batch_normalization_8 (Batch (None, 32, 32, 256)       1024      \n",
            "_________________________________________________________________\n",
            "conv2d_9 (Conv2D)            (None, 32, 32, 256)       590080    \n",
            "_________________________________________________________________\n",
            "batch_normalization_9 (Batch (None, 32, 32, 256)       1024      \n",
            "_________________________________________________________________\n",
            "max_pooling2d_4 (MaxPooling2 (None, 16, 16, 256)       0         \n",
            "_________________________________________________________________\n",
            "conv2d_10 (Conv2D)           (None, 16, 16, 512)       1180160   \n",
            "_________________________________________________________________\n",
            "batch_normalization_10 (Batc (None, 16, 16, 512)       2048      \n",
            "_________________________________________________________________\n",
            "conv2d_11 (Conv2D)           (None, 16, 16, 512)       2359808   \n",
            "_________________________________________________________________\n",
            "batch_normalization_11 (Batc (None, 16, 16, 512)       2048      \n",
            "_________________________________________________________________\n",
            "max_pooling2d_5 (MaxPooling2 (None, 8, 8, 512)         0         \n",
            "_________________________________________________________________\n",
            "conv2d_12 (Conv2D)           (None, 8, 8, 512)         2359808   \n",
            "_________________________________________________________________\n",
            "batch_normalization_12 (Batc (None, 8, 8, 512)         2048      \n",
            "_________________________________________________________________\n",
            "conv2d_13 (Conv2D)           (None, 8, 8, 512)         2359808   \n",
            "_________________________________________________________________\n",
            "batch_normalization_13 (Batc (None, 8, 8, 512)         2048      \n",
            "_________________________________________________________________\n",
            "max_pooling2d_6 (MaxPooling2 (None, 4, 4, 512)         0         \n",
            "_________________________________________________________________\n",
            "global_average_pooling2d_1 ( (None, 512)               0         \n",
            "_________________________________________________________________\n",
            "dense_1 (Dense)              (None, 32)                16416     \n",
            "=================================================================\n",
            "Total params: 10,209,568\n",
            "Trainable params: 10,202,784\n",
            "Non-trainable params: 6,784\n",
            "_________________________________________________________________\n"
          ],
          "name": "stdout"
        }
      ]
    },
    {
      "cell_type": "markdown",
      "metadata": {
        "id": "mu4WwCQqCzn5",
        "colab_type": "text"
      },
      "source": [
        "*define the a layer global average layer which converts (8,8,512) to (1,1,512)*"
      ]
    },
    {
      "cell_type": "code",
      "metadata": {
        "id": "ieDJTXwTazzr",
        "colab_type": "code",
        "colab": {}
      },
      "source": [
        "#global_average_layer = keras.\n",
        "#feature_batch_average = global_average_layer(feature_batch)\n",
        "#print(feature_batch_average.shape)"
      ],
      "execution_count": 0,
      "outputs": []
    },
    {
      "cell_type": "markdown",
      "metadata": {
        "id": "HAUIx3Q_DMc0",
        "colab_type": "text"
      },
      "source": [
        "*define the prediction_layer with class equal to 32*"
      ]
    },
    {
      "cell_type": "code",
      "metadata": {
        "id": "dQcM8xQsbcAK",
        "colab_type": "code",
        "colab": {}
      },
      "source": [
        "#middle = keras.layers.Dense(64,activation='relu')\n",
        "#prediction_layer = keras.layers.Dense(32,activation='softmax')\n",
        "#prediction_batch = prediction_layer(feature_batch_average)\n",
        "#print(prediction_batch.shape)"
      ],
      "execution_count": 0,
      "outputs": []
    },
    {
      "cell_type": "markdown",
      "metadata": {
        "id": "r57ZVEDIDYEQ",
        "colab_type": "text"
      },
      "source": [
        "*Made the final Model*"
      ]
    },
    {
      "cell_type": "code",
      "metadata": {
        "id": "NX7F8xnRbzD7",
        "colab_type": "code",
        "colab": {}
      },
      "source": [
        ""
      ],
      "execution_count": 0,
      "outputs": []
    },
    {
      "cell_type": "markdown",
      "metadata": {
        "id": "mBZd2QMoDeAO",
        "colab_type": "text"
      },
      "source": [
        "*Set the value of learning rate and compile the model for training*"
      ]
    },
    {
      "cell_type": "code",
      "metadata": {
        "id": "DfUvFq2Mn2EX",
        "colab_type": "code",
        "outputId": "995b02ee-0294-4046-ecc8-140497a004b3",
        "colab": {
          "base_uri": "https://localhost:8080/",
          "height": 74
        }
      },
      "source": [
        "base_learning_rate = 0.001\n",
        "model.compile(optimizer=keras.optimizers.Adam(lr=base_learning_rate),\n",
        "              loss='categorical_crossentropy',\n",
        "              metrics=['accuracy'])"
      ],
      "execution_count": 0,
      "outputs": [
        {
          "output_type": "stream",
          "text": [
            "WARNING:tensorflow:From /usr/local/lib/python3.6/dist-packages/keras/optimizers.py:793: The name tf.train.Optimizer is deprecated. Please use tf.compat.v1.train.Optimizer instead.\n",
            "\n"
          ],
          "name": "stdout"
        }
      ]
    },
    {
      "cell_type": "markdown",
      "metadata": {
        "id": "wGPXSeCfDqYz",
        "colab_type": "text"
      },
      "source": [
        "*to save the trian model weights at every step*"
      ]
    },
    {
      "cell_type": "code",
      "metadata": {
        "id": "12jwdHEPcEvN",
        "colab_type": "code",
        "outputId": "311c4fdf-7433-4696-dbd1-91c5adbf743d",
        "colab": {
          "base_uri": "https://localhost:8080/",
          "height": 35
        }
      },
      "source": [
        "checkpoint_path = \"/cp_more_layer_11.ckpt\"\n",
        "checkpoint_dir = os.path.dirname(checkpoint_path)\n",
        "print(checkpoint_dir)\n",
        "cp_callback = keras.callbacks.ModelCheckpoint(checkpoint_path,\n",
        "                                                save_weights_only=True,\n",
        "                                                verbose=1)"
      ],
      "execution_count": 0,
      "outputs": [
        {
          "output_type": "stream",
          "text": [
            "/\n"
          ],
          "name": "stdout"
        }
      ]
    },
    {
      "cell_type": "markdown",
      "metadata": {
        "id": "RgUBrXbWEEBX",
        "colab_type": "text"
      },
      "source": [
        "*Train the model with steps_per_epoch = 625,\n",
        "epoch = 2 and save the weights*"
      ]
    },
    {
      "cell_type": "code",
      "metadata": {
        "id": "Un_GVKF7dNrn",
        "colab_type": "code",
        "outputId": "7daeeab6-1e6b-4e90-bc66-2bfcf410d312",
        "colab": {
          "base_uri": "https://localhost:8080/"
        }
      },
      "source": [
        "model.fit_generator(train_data,\n",
        "                   steps_per_epoch = 200,\n",
        "                   validation_data = validation_data,\n",
        "                   validation_steps = 100,\n",
        "                   callbacks=[cp_callback], \n",
        "                   epochs=3)\n",
        "os.chdir(\"/content/drive/My Drive/Colab Notebooks/coin_train_x\")\n",
        "model.save_weights(\"model_256_256_8_vgg16.h5\")"
      ],
      "execution_count": 0,
      "outputs": [
        {
          "output_type": "stream",
          "text": [
            "WARNING:tensorflow:From /usr/local/lib/python3.6/dist-packages/tensorflow/python/ops/math_grad.py:1250: add_dispatch_support.<locals>.wrapper (from tensorflow.python.ops.array_ops) is deprecated and will be removed in a future version.\n",
            "Instructions for updating:\n",
            "Use tf.where in 2.0, which has the same broadcast rule as np.where\n",
            "Epoch 1/3\n",
            "512/512 [==============================] - 2524s 5s/step - loss: 3.4768 - acc: 0.0871 - val_loss: 5.0665 - val_acc: 0.0741\n",
            "\n",
            "Epoch 00001: saving model to /cp_more_layer_11.ckpt\n",
            "Epoch 2/3\n",
            " 10/512 [..............................] - ETA: 5:01 - loss: 3.3473 - acc: 0.1156"
          ],
          "name": "stdout"
        }
      ]
    },
    {
      "cell_type": "markdown",
      "metadata": {
        "id": "1eIOLA5eQBj5",
        "colab_type": "text"
      },
      "source": [
        "\n",
        "\n",
        "```\n",
        "# This is formatted as code\n",
        "```\n",
        "\n",
        "*Training.... for best result - model.fit_generator runs 3 times*"
      ]
    },
    {
      "cell_type": "code",
      "metadata": {
        "id": "34vbkW-09dRi",
        "colab_type": "code",
        "outputId": "e34131b1-5a12-49e1-d1df-e1a4ec17aa5e",
        "colab": {
          "base_uri": "https://localhost:8080/",
          "height": 235
        }
      },
      "source": [
        "model.fit_generator(train_data,\n",
        "                   steps_per_epoch = 512,\n",
        "                   validation_data = validation_data,\n",
        "                   validation_steps = 100,\n",
        "                   callbacks=[cp_callback], \n",
        "                   epochs=3)\n",
        "os.chdir(\"/content/drive/My Drive/Colab Notebooks/coin_train_x\")\n",
        "model.save_weights(\"model_256_256_8_vgg16.h5\")\n",
        "## main model name --model_300_400_11_vgg19.h5  ##"
      ],
      "execution_count": 0,
      "outputs": [
        {
          "output_type": "stream",
          "text": [
            "Epoch 1/3\n",
            "512/512 [==============================] - 499s 975ms/step - loss: 3.1644 - acc: 0.1458 - val_loss: 3.6651 - val_acc: 0.1521\n",
            "\n",
            "Epoch 00001: saving model to /cp_more_layer_11.ckpt\n",
            "Epoch 2/3\n",
            "512/512 [==============================] - 493s 963ms/step - loss: 2.5886 - acc: 0.3023 - val_loss: 2.8058 - val_acc: 0.2909\n",
            "\n",
            "Epoch 00002: saving model to /cp_more_layer_11.ckpt\n",
            "Epoch 3/3\n",
            "512/512 [==============================] - 495s 966ms/step - loss: 1.4331 - acc: 0.6158 - val_loss: 1.4087 - val_acc: 0.6208\n",
            "\n",
            "Epoch 00003: saving model to /cp_more_layer_11.ckpt\n"
          ],
          "name": "stdout"
        }
      ]
    },
    {
      "cell_type": "code",
      "metadata": {
        "id": "eURLLmHe5oeJ",
        "colab_type": "code",
        "outputId": "6fb7f3c3-a545-4d64-a35d-07de2ac2ae8b",
        "colab": {
          "base_uri": "https://localhost:8080/",
          "height": 235
        }
      },
      "source": [
        "model.fit_generator(train_data,\n",
        "                   steps_per_epoch = 512,\n",
        "                   validation_data = validation_data,\n",
        "                   validation_steps = 100,\n",
        "                   callbacks=[cp_callback], \n",
        "                   epochs=3)\n",
        "os.chdir(\"/content/drive/My Drive/Colab Notebooks/coin_train_x\")\n",
        "model.save_weights(\"model_256_256_8_vgg16.h5\")\n",
        "## main model name --model_300_400_11_vgg19.h5  ##"
      ],
      "execution_count": 0,
      "outputs": [
        {
          "output_type": "stream",
          "text": [
            "Epoch 1/3\n",
            "512/512 [==============================] - 501s 978ms/step - loss: 0.6445 - acc: 0.8347 - val_loss: 1.0359 - val_acc: 0.7420\n",
            "\n",
            "Epoch 00001: saving model to /cp_more_layer_11.ckpt\n",
            "Epoch 2/3\n",
            "512/512 [==============================] - 491s 959ms/step - loss: 0.3232 - acc: 0.9187 - val_loss: 0.6336 - val_acc: 0.8467\n",
            "\n",
            "Epoch 00002: saving model to /cp_more_layer_11.ckpt\n",
            "Epoch 3/3\n",
            "512/512 [==============================] - 510s 995ms/step - loss: 0.2008 - acc: 0.9491 - val_loss: 0.6177 - val_acc: 0.8476\n",
            "\n",
            "Epoch 00003: saving model to /cp_more_layer_11.ckpt\n"
          ],
          "name": "stdout"
        }
      ]
    },
    {
      "cell_type": "markdown",
      "metadata": {
        "id": "6ekeBgFWJc_Q",
        "colab_type": "text"
      },
      "source": [
        "*Change the directry and save model_weights*"
      ]
    },
    {
      "cell_type": "code",
      "metadata": {
        "id": "lpqzzWAKijfQ",
        "colab_type": "code",
        "colab": {}
      },
      "source": [
        "# os.chdir(\"/content/drive/My Drive/Colab Notebooks/coin_train_x\")\n",
        "# model.save_weights(\"model_300_400_11_vgg19_2.h5\")"
      ],
      "execution_count": 0,
      "outputs": []
    },
    {
      "cell_type": "markdown",
      "metadata": {
        "id": "FFDJ4ZiFJzWx",
        "colab_type": "text"
      },
      "source": [
        "*If I want to load the last traing model_weights again *"
      ]
    },
    {
      "cell_type": "code",
      "metadata": {
        "id": "qRLqII8B0blx",
        "colab_type": "code",
        "colab": {}
      },
      "source": [
        "loaded_model =  tf.keras.Sequential([\n",
        "    base_model,\n",
        "    global_average_layer,\n",
        "    prediction_layer\n",
        "])"
      ],
      "execution_count": 0,
      "outputs": []
    },
    {
      "cell_type": "markdown",
      "metadata": {
        "id": "8oMUYdj6J_pD",
        "colab_type": "text"
      },
      "source": [
        "*Complie the loaded Model*"
      ]
    },
    {
      "cell_type": "code",
      "metadata": {
        "id": "MsyX6eEMNkl1",
        "colab_type": "code",
        "outputId": "cd86bb1d-a662-43c9-d06e-5a6675942c80",
        "colab": {
          "base_uri": "https://localhost:8080/",
          "height": 74
        }
      },
      "source": [
        "base_learning_rate = 0.001\n",
        "model.compile(optimizer=keras.optimizers.Adam(lr=base_learning_rate),\n",
        "              loss='categorical_crossentropy',\n",
        "              metrics=['accuracy'])"
      ],
      "execution_count": 0,
      "outputs": [
        {
          "output_type": "stream",
          "text": [
            "WARNING:tensorflow:From /usr/local/lib/python3.6/dist-packages/keras/optimizers.py:793: The name tf.train.Optimizer is deprecated. Please use tf.compat.v1.train.Optimizer instead.\n",
            "\n"
          ],
          "name": "stdout"
        }
      ]
    },
    {
      "cell_type": "code",
      "metadata": {
        "id": "W_3TaSYXJjnz",
        "colab_type": "code",
        "colab": {}
      },
      "source": [
        ""
      ],
      "execution_count": 0,
      "outputs": []
    },
    {
      "cell_type": "markdown",
      "metadata": {
        "id": "fOaPJUBgKGF3",
        "colab_type": "text"
      },
      "source": [
        "*Again save the model weights*"
      ]
    },
    {
      "cell_type": "code",
      "metadata": {
        "id": "g4TuHtcCBjKr",
        "colab_type": "code",
        "colab": {}
      },
      "source": [
        "os.chdir(\"/content/drive/My Drive/Colab Notebooks/coin_train_x\")\n",
        "model.load_weights(\"model_256_256_8_vgg16.h5\")"
      ],
      "execution_count": 0,
      "outputs": []
    },
    {
      "cell_type": "code",
      "metadata": {
        "id": "pY5FhJUOnycL",
        "colab_type": "code",
        "colab": {}
      },
      "source": [
        "datage = ImageDataGenerator(rescale=1./255,\n",
        "                            shear_range=0.3,\n",
        "                            zoom_range=0.3,\n",
        "                            horizontal_flip=True)"
      ],
      "execution_count": 0,
      "outputs": []
    },
    {
      "cell_type": "code",
      "metadata": {
        "id": "aODJq85dn4mG",
        "colab_type": "code",
        "outputId": "06e9e2ba-3272-466c-99ec-5341235c9aca",
        "colab": {
          "base_uri": "https://localhost:8080/",
          "height": 35
        }
      },
      "source": [
        "test_data = datage.flow_from_directory('/content/drive/My Drive/Colab Notebooks/coin_test_x',\n",
        "                                    target_size = (img_width,img_hight),\n",
        "                                    class_mode = 'categorical',\n",
        "                                    batch_size=batch_size,\n",
        "                                    shuffle=False,\n",
        "                                   )"
      ],
      "execution_count": 0,
      "outputs": [
        {
          "output_type": "stream",
          "text": [
            "Found 840 images belonging to 32 classes.\n"
          ],
          "name": "stdout"
        }
      ]
    },
    {
      "cell_type": "code",
      "metadata": {
        "id": "_8i405Iw0L0Z",
        "colab_type": "code",
        "colab": {}
      },
      "source": [
        "model.evaluate_generator(generator=test_data,\n",
        "steps=200)"
      ],
      "execution_count": 0,
      "outputs": []
    },
    {
      "cell_type": "markdown",
      "metadata": {
        "id": "oyMoRXYHKR0Y",
        "colab_type": "text"
      },
      "source": [
        "# **Test Part**\n",
        "\n",
        "*change the directry to test folder*"
      ]
    },
    {
      "cell_type": "code",
      "metadata": {
        "id": "yGJdnJdA0tVW",
        "colab_type": "code",
        "colab": {}
      },
      "source": [
        "os.chdir(\"/content/drive/My Drive/test\")"
      ],
      "execution_count": 0,
      "outputs": []
    },
    {
      "cell_type": "markdown",
      "metadata": {
        "id": "HL5Ljw1_UjwE",
        "colab_type": "text"
      },
      "source": [
        "*map the class with country name*"
      ]
    },
    {
      "cell_type": "code",
      "metadata": {
        "id": "W-Xx67l6jq0j",
        "colab_type": "code",
        "colab": {}
      },
      "source": [
        "cl = [1, 12, 23, 27, 28, 29, 30, 31, 32, 2, 3, 4, 5, 6, 7, 8, 9, 10, 11, 13, 14, 15, 16, 17, 18, 19, 20, 21, 22, 24, 25, 26 ]"
      ],
      "execution_count": 0,
      "outputs": []
    },
    {
      "cell_type": "code",
      "metadata": {
        "id": "zsMq8F9Nk99j",
        "colab_type": "code",
        "outputId": "c60be619-8eaa-4478-eaa9-76d75dd5ffa2",
        "colab": {
          "base_uri": "https://localhost:8080/",
          "height": 35
        }
      },
      "source": [
        "cl[31]"
      ],
      "execution_count": 0,
      "outputs": [
        {
          "output_type": "execute_result",
          "data": {
            "text/plain": [
              "26"
            ]
          },
          "metadata": {
            "tags": []
          },
          "execution_count": 24
        }
      ]
    },
    {
      "cell_type": "code",
      "metadata": {
        "id": "SkAWrgnD1Im4",
        "colab_type": "code",
        "outputId": "1b086675-5d26-4add-bd6a-dad8cc1623f5",
        "colab": {
          "base_uri": "https://localhost:8080/",
          "height": 1000
        }
      },
      "source": [
        "import glob\n",
        "import csv\n",
        "idx2country = {}\n",
        "for z in range(1,33):\n",
        "  test_path = '/content/drive/My Drive/Colab Notebooks/coin_train_x/' + str(z)\n",
        "  di = {}\n",
        "  for img in os.listdir(test_path):\n",
        "    idx = img.split('.')[0]\n",
        "    l = img.split('.')[0]\n",
        "    p = l.split(' ')[-1]\n",
        "    q = p.split('_')\n",
        "    q = q[1:]\n",
        "    k = \"\"\n",
        "    if len(q) == 2:\n",
        "      k = q[0] + '_' + q[1]\n",
        "    else:\n",
        "      k = q[0]\n",
        "  \n",
        "    #img_path = os.path.join(test_path,img)\n",
        "    #IMG = cv2.imread(img_path)\n",
        "    #IMG = cv2.resize(IMG, (256,256))\n",
        "    #IMG = np.array(IMG).astype('float32') / 255.\n",
        "    #IMG = np.expand_dims(IMG, axis = 0)\n",
        "    #IMG = np.vstack([IMG])\n",
        "    #Class = model.predict_classes(IMG, batch_size=1)\n",
        "    #ID = str(int(Class[0])+1)\n",
        "    ID = str(cl[z-1])\n",
        "    print(ID)\n",
        "    print(k)\n",
        "    idx2country[cl[z-1]] = k\n",
        "    #print(\"##########################\")\n",
        "    break\n",
        "    #if ID == '0':\n",
        "      #print(\"Error\")\n",
        "    #print (idx2country[ID])\n",
        "    #di[idx] = idx2country[ID]\n",
        "#idx2country[27] = 'canada'\n",
        "#idx2country[23] = 'uniter_kingdom'\n",
        "#idx2country[3] = 'hungary'\n",
        "#idx2country[21] = 'switzerland'\n"
      ],
      "execution_count": 0,
      "outputs": [
        {
          "output_type": "stream",
          "text": [
            "1\n",
            "australia\n",
            "12\n",
            "brazil\n",
            "23\n",
            "united_kingdom\n",
            "27\n",
            "canada\n",
            "28\n",
            "chile\n",
            "29\n",
            "china\n",
            "30\n",
            "czech_republic\n",
            "31\n",
            "denmark\n",
            "32\n",
            "spain\n",
            "2\n",
            "hong_kong\n",
            "3\n",
            "hungary\n",
            "4\n",
            "india\n",
            "5\n",
            "indonesia\n",
            "6\n",
            "israel\n",
            "7\n",
            "japan\n",
            "8\n",
            "south_korea\n",
            "9\n",
            "malaysia\n",
            "10\n",
            "mexico\n",
            "11\n",
            "new_zealand\n",
            "13\n",
            "norway\n",
            "14\n",
            "pakistan\n",
            "15\n",
            "philippines\n",
            "16\n",
            "poland\n",
            "17\n",
            "russia\n",
            "18\n",
            "singapore\n",
            "19\n",
            "south_africa\n",
            "20\n",
            "sweden\n",
            "21\n",
            "switzerland\n",
            "22\n",
            "taiwan\n",
            "24\n",
            "thailand\n",
            "25\n",
            "turkey\n",
            "26\n",
            "usa\n"
          ],
          "name": "stdout"
        }
      ]
    },
    {
      "cell_type": "markdown",
      "metadata": {
        "id": "gVk6UmP7Z0Qi",
        "colab_type": "text"
      },
      "source": [
        "***Predict on test set and make a dictionary which is used for the making csv file***"
      ]
    },
    {
      "cell_type": "code",
      "metadata": {
        "id": "Dx3L5CPheet2",
        "colab_type": "code",
        "colab": {}
      },
      "source": [
        "  test_path = '/content/drive/My Drive/test'\n",
        "  di = {}\n",
        "  for img in os.listdir(test_path):\n",
        "    idx = img.split('.')[0]\n",
        "  \n",
        "    img_path = os.path.join(test_path,img)\n",
        "    IMG = cv2.imread(img_path)\n",
        "    IMG = cv2.resize(IMG, (256,256))\n",
        "    IMG = np.array(IMG).astype('float32') / 255.\n",
        "    IMG = np.expand_dims(IMG, axis = 0)\n",
        "    IMG = np.vstack([IMG])\n",
        "    #pred = loaded_model.predict([IMG])\n",
        "    #Id = np.where(pred.max)\n",
        "    Class = model.predict_classes(IMG, batch_size=1)\n",
        "    ID = (Class[0])+1\n",
        "    #print(ID)\n",
        "    #print(idx)\n",
        "    #idx2country[Class[0]+1] = k\n",
        "    #print(\"##########################\")\n",
        "    \n",
        "    #if ID == '0':\n",
        "      #print(\"Error\")\n",
        "    #print (idx2country[ID])\n",
        "    di[idx] = idx2country[ID]"
      ],
      "execution_count": 0,
      "outputs": []
    },
    {
      "cell_type": "markdown",
      "metadata": {
        "id": "QSAoplgFLv8E",
        "colab_type": "text"
      },
      "source": [
        "*Change the directry and make a .csv file for submit the answer*"
      ]
    },
    {
      "cell_type": "code",
      "metadata": {
        "id": "B748US7K2P-h",
        "colab_type": "code",
        "colab": {}
      },
      "source": [
        "import csv\n",
        "#sorted(di.keys())\n",
        "os.chdir(\"/content/drive/My Drive\")\n",
        "with open('result_coin_3.csv', 'w') as f:\n",
        "    writer = csv.writer(f)\n",
        "    writer.writerow(('ID', 'Country'))\n",
        "with open('result_coin_3.csv', 'a') as f:\n",
        "    for key in di.keys():\n",
        "      f.write(\"%s,%s\\n\"%(key,di[key]))"
      ],
      "execution_count": 0,
      "outputs": []
    },
    {
      "cell_type": "code",
      "metadata": {
        "id": "6pYqx0vxDN-p",
        "colab_type": "code",
        "outputId": "1d3ce52e-13b5-467b-d4bd-be605a11c5ca",
        "colab": {
          "base_uri": "https://localhost:8080/",
          "height": 561
        }
      },
      "source": [
        "# idx2country = {}\n",
        "# test_path = '/content/drive/My Drive/Colab Notebooks/coin_train_x'\n",
        "# for idx in os.listdir(test_path):\n",
        "#   idx_path = os.path.join(test_path,idx)\n",
        "#   #print(os.listdir(idx_path)[0])\n",
        "#   l = ((os.listdir(idx_path))[0]).split('.')[0]\n",
        "#   p = l.split(' ')[-1]\n",
        "#   q = p.split('_')\n",
        "#   q = q[1:]\n",
        "#   k = \"\"\n",
        "#   if len(q) == 2:\n",
        "#     k = q[0] + '_' + q[1]\n",
        "#   else:\n",
        "#     k = q[0]\n",
        "#   print(k)\n",
        "#   country = k\n",
        "  \n",
        "#   idx2country[idx] = country\n"
      ],
      "execution_count": 0,
      "outputs": [
        {
          "output_type": "stream",
          "text": [
            "australia\n",
            "brazil\n",
            "united_kingdom\n",
            "canada\n",
            "chile\n",
            "china\n",
            "czech_republic\n",
            "denmark\n",
            "spain\n",
            "hong_kong\n",
            "hungary\n",
            "india\n",
            "indonesia\n",
            "israel\n",
            "japan\n",
            "south_korea\n",
            "malaysia\n",
            "mexico\n",
            "new_zealand\n",
            "norway\n",
            "pakistan\n",
            "philippines\n",
            "poland\n",
            "russia\n",
            "singapore\n",
            "south_africa\n",
            "sweden\n",
            "switzerland\n",
            "taiwan\n",
            "thailand\n",
            "turkey\n",
            "usa\n"
          ],
          "name": "stdout"
        }
      ]
    },
    {
      "cell_type": "code",
      "metadata": {
        "id": "MRhPb1yXOq1y",
        "colab_type": "code",
        "outputId": "29160820-5c68-4d68-d9d5-e0fd353eab02",
        "colab": {
          "base_uri": "https://localhost:8080/",
          "height": 34
        }
      },
      "source": [
        "idx2country['3']"
      ],
      "execution_count": 0,
      "outputs": [
        {
          "output_type": "execute_result",
          "data": {
            "text/plain": [
              "'united_kingdom'"
            ]
          },
          "metadata": {
            "tags": []
          },
          "execution_count": 127
        }
      ]
    },
    {
      "cell_type": "code",
      "metadata": {
        "id": "-kawL1fEPJEn",
        "colab_type": "code",
        "colab": {}
      },
      "source": [
        ""
      ],
      "execution_count": 0,
      "outputs": []
    }
  ]
}
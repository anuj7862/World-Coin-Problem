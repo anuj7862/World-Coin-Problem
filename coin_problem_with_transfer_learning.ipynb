{
  "nbformat": 4,
  "nbformat_minor": 0,
  "metadata": {
    "colab": {
      "name": "coin_problem_with_transfer_learning.ipynb",
      "provenance": [],
      "collapsed_sections": []
    },
    "kernelspec": {
      "name": "python3",
      "display_name": "Python 3"
    },
    "accelerator": "GPU"
  },
  "cells": [
    {
      "cell_type": "markdown",
      "metadata": {
        "id": "gyPrF3E48nMs",
        "colab_type": "text"
      },
      "source": [
        "### import drive from google.colab "
      ]
    },
    {
      "cell_type": "code",
      "metadata": {
        "id": "4k8H3jXYoC9G",
        "colab_type": "code",
        "outputId": "bdf5b82a-44e2-4a43-ee9e-f185b8a7912d",
        "colab": {
          "base_uri": "https://localhost:8080/",
          "height": 122
        }
      },
      "source": [
        "from google.colab import drive\n",
        "drive.mount('/content/drive')"
      ],
      "execution_count": 0,
      "outputs": [
        {
          "output_type": "stream",
          "text": [
            "Go to this URL in a browser: https://accounts.google.com/o/oauth2/auth?client_id=947318989803-6bn6qk8qdgf4n4g3pfee6491hc0brc4i.apps.googleusercontent.com&redirect_uri=urn%3Aietf%3Awg%3Aoauth%3A2.0%3Aoob&scope=email%20https%3A%2F%2Fwww.googleapis.com%2Fauth%2Fdocs.test%20https%3A%2F%2Fwww.googleapis.com%2Fauth%2Fdrive%20https%3A%2F%2Fwww.googleapis.com%2Fauth%2Fdrive.photos.readonly%20https%3A%2F%2Fwww.googleapis.com%2Fauth%2Fpeopleapi.readonly&response_type=code\n",
            "\n",
            "Enter your authorization code:\n",
            "··········\n",
            "Mounted at /content/drive\n"
          ],
          "name": "stdout"
        }
      ]
    },
    {
      "cell_type": "markdown",
      "metadata": {
        "id": "5zJs-6vD6Z5E",
        "colab_type": "text"
      },
      "source": [
        "### **Change directry to where training data is save....**"
      ]
    },
    {
      "cell_type": "code",
      "metadata": {
        "id": "yTzTxNZFo0w4",
        "colab_type": "code",
        "outputId": "d56f83ca-53d9-47bd-db3c-b607ba942708",
        "colab": {
          "base_uri": "https://localhost:8080/",
          "height": 119
        }
      },
      "source": [
        "import os\n",
        "os.chdir(\"/content/drive/My Drive/Colab Notebooks/coin_train_x\")\n",
        "!ls"
      ],
      "execution_count": 0,
      "outputs": [
        {
          "output_type": "stream",
          "text": [
            "1   15\t20  26\t31  8\t\t\t\t model_400_400_170_resnet50.h5\n",
            "10  16\t21  27\t32  9\n",
            "11  17\t22  28\t4   model_256_256_resnet.h5\n",
            "12  18\t23  29\t5   model_300_400_11_vgg19_2.h5\n",
            "13  19\t24  3\t6   model_300_400_11_vgg19.h5\n",
            "14  2\t25  30\t7   model_400_400_10_vgg19.h5\n"
          ],
          "name": "stdout"
        }
      ]
    },
    {
      "cell_type": "markdown",
      "metadata": {
        "id": "sPa4Kjtr-rk5",
        "colab_type": "text"
      },
      "source": [
        "*Import libraries like-italicized text\n",
        "numpy for make matrix..\n",
        "pandas for reading csv file\n",
        "csv for make a csv file\n",
        "matplotlib.pyplot for ploting and visualization\n",
        "ImageDataGenerator for making traing and test data\n",
        "os to change directry*"
      ]
    },
    {
      "cell_type": "code",
      "metadata": {
        "id": "d4WVBWAwpWy5",
        "colab_type": "code",
        "outputId": "967739ba-5d3f-474e-a391-613655e24464",
        "colab": {
          "base_uri": "https://localhost:8080/",
          "height": 34
        }
      },
      "source": [
        "import numpy as np\n",
        "import pandas as pd\n",
        "import csv\n",
        "import cv2\n",
        "import matplotlib.pyplot as plt\n",
        "from keras.preprocessing.image import ImageDataGenerator"
      ],
      "execution_count": 0,
      "outputs": [
        {
          "output_type": "stream",
          "text": [
            "Using TensorFlow backend.\n"
          ],
          "name": "stderr"
        }
      ]
    },
    {
      "cell_type": "markdown",
      "metadata": {
        "id": "OMCmU95kBTY6",
        "colab_type": "text"
      },
      "source": [
        "made a datagenerator"
      ]
    },
    {
      "cell_type": "code",
      "metadata": {
        "id": "scy6qMhmp3Fx",
        "colab_type": "code",
        "colab": {}
      },
      "source": [
        "datagen = ImageDataGenerator(rescale=1./255,\n",
        "                            shear_range=0.4,\n",
        "                            zoom_range=0.2,\n",
        "                            horizontal_flip=True,\n",
        "                            validation_split=0.05)"
      ],
      "execution_count": 0,
      "outputs": []
    },
    {
      "cell_type": "markdown",
      "metadata": {
        "id": "h9qFdfHsBazl",
        "colab_type": "text"
      },
      "source": [
        "split the training data in train and validation \n",
        "and the parameter batch size = 32\n",
        "and resize the image to 256*256*3\n"
      ]
    },
    {
      "cell_type": "code",
      "metadata": {
        "id": "UnfnddM8q_rG",
        "colab_type": "code",
        "outputId": "ee989aaa-6851-4e1c-b46b-853e1b75873d",
        "colab": {
          "base_uri": "https://localhost:8080/",
          "height": 51
        }
      },
      "source": [
        "batch_size = 32\n",
        "img_shape = (300,400,3)\n",
        "img_hight = 400\n",
        "img_width = 300\n",
        "train_data = datagen.flow_from_directory('/content/drive/My Drive/Colab Notebooks/coin_train_x',\n",
        "                                    target_size = (img_width,img_hight),\n",
        "                                    class_mode = 'categorical',\n",
        "                                    batch_size=batch_size,\n",
        "                                    shuffle=True,\n",
        "                                   subset='training')\n",
        "\n",
        "validation_data = datagen.flow_from_directory('/content/drive/My Drive/Colab Notebooks/coin_train_x',\n",
        "                                             target_size=(img_width,img_hight),\n",
        "                                             class_mode='categorical',\n",
        "                                             batch_size=batch_size,\n",
        "                                             shuffle=True,\n",
        "                                              subset='validation')"
      ],
      "execution_count": 0,
      "outputs": [
        {
          "output_type": "stream",
          "text": [
            "Found 6695 images belonging to 32 classes.\n",
            "Found 335 images belonging to 32 classes.\n"
          ],
          "name": "stdout"
        }
      ]
    },
    {
      "cell_type": "code",
      "metadata": {
        "id": "Zn71Qv-LrPnd",
        "colab_type": "code",
        "colab": {}
      },
      "source": [
        "import tensorflow as tf\n",
        "keras = tf.keras"
      ],
      "execution_count": 0,
      "outputs": []
    },
    {
      "cell_type": "markdown",
      "metadata": {
        "id": "XzkfJWyUCBGh",
        "colab_type": "text"
      },
      "source": [
        "*Load the pretrained VGG19 model without top layer*"
      ]
    },
    {
      "cell_type": "code",
      "metadata": {
        "id": "A7L48lvXthuL",
        "colab_type": "code",
        "outputId": "403a9b79-8df9-47b0-a245-a865802af6a9",
        "colab": {
          "base_uri": "https://localhost:8080/",
          "height": 122
        }
      },
      "source": [
        "base_model = tf.keras.applications.VGG16(input_shape = img_shape,include_top = False,weights='imagenet')"
      ],
      "execution_count": 0,
      "outputs": [
        {
          "output_type": "stream",
          "text": [
            "WARNING:tensorflow:From /usr/local/lib/python3.6/dist-packages/tensorflow/python/ops/init_ops.py:1251: calling VarianceScaling.__init__ (from tensorflow.python.ops.init_ops) with dtype is deprecated and will be removed in a future version.\n",
            "Instructions for updating:\n",
            "Call initializer instance with the dtype argument instead of passing it to the constructor\n",
            "Downloading data from https://github.com/fchollet/deep-learning-models/releases/download/v0.1/vgg16_weights_tf_dim_ordering_tf_kernels_notop.h5\n",
            "58892288/58889256 [==============================] - 5s 0us/step\n"
          ],
          "name": "stdout"
        }
      ]
    },
    {
      "cell_type": "markdown",
      "metadata": {
        "id": "Fd-a6-pGCaQ2",
        "colab_type": "text"
      },
      "source": [
        "*Set the layer of model to be trained*"
      ]
    },
    {
      "cell_type": "code",
      "metadata": {
        "id": "TXzCdlAd3gOT",
        "colab_type": "code",
        "colab": {}
      },
      "source": [
        "trainable_layers = 5\n",
        "for layer in base_model.layers[:trainable_layers]:\n",
        "  layer.trainable=False\n",
        "for layer in base_model.layers[trainable_layers:]:\n",
        "  layer.trainable=True"
      ],
      "execution_count": 0,
      "outputs": []
    },
    {
      "cell_type": "markdown",
      "metadata": {
        "id": "pkI8hocCCpVR",
        "colab_type": "text"
      },
      "source": [
        "*Print the summary about the VGG19 model*"
      ]
    },
    {
      "cell_type": "code",
      "metadata": {
        "id": "GQVrH-4_awpO",
        "colab_type": "code",
        "outputId": "86056f29-e94c-4dba-ab22-a27e48596a43",
        "colab": {
          "base_uri": "https://localhost:8080/",
          "height": 799
        }
      },
      "source": [
        "base_model.summary()"
      ],
      "execution_count": 0,
      "outputs": [
        {
          "output_type": "stream",
          "text": [
            "Model: \"vgg16\"\n",
            "_________________________________________________________________\n",
            "Layer (type)                 Output Shape              Param #   \n",
            "=================================================================\n",
            "input_1 (InputLayer)         [(None, 300, 400, 3)]     0         \n",
            "_________________________________________________________________\n",
            "block1_conv1 (Conv2D)        (None, 300, 400, 64)      1792      \n",
            "_________________________________________________________________\n",
            "block1_conv2 (Conv2D)        (None, 300, 400, 64)      36928     \n",
            "_________________________________________________________________\n",
            "block1_pool (MaxPooling2D)   (None, 150, 200, 64)      0         \n",
            "_________________________________________________________________\n",
            "block2_conv1 (Conv2D)        (None, 150, 200, 128)     73856     \n",
            "_________________________________________________________________\n",
            "block2_conv2 (Conv2D)        (None, 150, 200, 128)     147584    \n",
            "_________________________________________________________________\n",
            "block2_pool (MaxPooling2D)   (None, 75, 100, 128)      0         \n",
            "_________________________________________________________________\n",
            "block3_conv1 (Conv2D)        (None, 75, 100, 256)      295168    \n",
            "_________________________________________________________________\n",
            "block3_conv2 (Conv2D)        (None, 75, 100, 256)      590080    \n",
            "_________________________________________________________________\n",
            "block3_conv3 (Conv2D)        (None, 75, 100, 256)      590080    \n",
            "_________________________________________________________________\n",
            "block3_pool (MaxPooling2D)   (None, 37, 50, 256)       0         \n",
            "_________________________________________________________________\n",
            "block4_conv1 (Conv2D)        (None, 37, 50, 512)       1180160   \n",
            "_________________________________________________________________\n",
            "block4_conv2 (Conv2D)        (None, 37, 50, 512)       2359808   \n",
            "_________________________________________________________________\n",
            "block4_conv3 (Conv2D)        (None, 37, 50, 512)       2359808   \n",
            "_________________________________________________________________\n",
            "block4_pool (MaxPooling2D)   (None, 18, 25, 512)       0         \n",
            "_________________________________________________________________\n",
            "block5_conv1 (Conv2D)        (None, 18, 25, 512)       2359808   \n",
            "_________________________________________________________________\n",
            "block5_conv2 (Conv2D)        (None, 18, 25, 512)       2359808   \n",
            "_________________________________________________________________\n",
            "block5_conv3 (Conv2D)        (None, 18, 25, 512)       2359808   \n",
            "_________________________________________________________________\n",
            "block5_pool (MaxPooling2D)   (None, 9, 12, 512)        0         \n",
            "=================================================================\n",
            "Total params: 14,714,688\n",
            "Trainable params: 14,602,112\n",
            "Non-trainable params: 112,576\n",
            "_________________________________________________________________\n"
          ],
          "name": "stdout"
        }
      ]
    },
    {
      "cell_type": "markdown",
      "metadata": {
        "id": "mu4WwCQqCzn5",
        "colab_type": "text"
      },
      "source": [
        "*define the a layer global average layer which converts (8,8,512) to (1,1,512)*"
      ]
    },
    {
      "cell_type": "code",
      "metadata": {
        "id": "ieDJTXwTazzr",
        "colab_type": "code",
        "colab": {}
      },
      "source": [
        "global_average_layer = tf.keras.layers.GlobalAveragePooling2D()\n",
        "#feature_batch_average = global_average_layer(feature_batch)\n",
        "#print(feature_batch_average.shape)"
      ],
      "execution_count": 0,
      "outputs": []
    },
    {
      "cell_type": "markdown",
      "metadata": {
        "id": "HAUIx3Q_DMc0",
        "colab_type": "text"
      },
      "source": [
        "*define the prediction_layer with class equal to 32*"
      ]
    },
    {
      "cell_type": "code",
      "metadata": {
        "id": "dQcM8xQsbcAK",
        "colab_type": "code",
        "colab": {}
      },
      "source": [
        "middle = keras.layers.Dense(64,activation='relu')\n",
        "prediction_layer = keras.layers.Dense(32,activation='softmax')\n",
        "#prediction_batch = prediction_layer(feature_batch_average)\n",
        "#print(prediction_batch.shape)"
      ],
      "execution_count": 0,
      "outputs": []
    },
    {
      "cell_type": "markdown",
      "metadata": {
        "id": "r57ZVEDIDYEQ",
        "colab_type": "text"
      },
      "source": [
        "*Made the final Model*"
      ]
    },
    {
      "cell_type": "code",
      "metadata": {
        "id": "NX7F8xnRbzD7",
        "colab_type": "code",
        "colab": {}
      },
      "source": [
        "model = tf.keras.Sequential([\n",
        "    base_model,\n",
        "    global_average_layer,\n",
        "    prediction_layer\n",
        "])\n"
      ],
      "execution_count": 0,
      "outputs": []
    },
    {
      "cell_type": "markdown",
      "metadata": {
        "id": "mBZd2QMoDeAO",
        "colab_type": "text"
      },
      "source": [
        "*Set the value of learning rate and compile the model for training*"
      ]
    },
    {
      "cell_type": "code",
      "metadata": {
        "id": "DfUvFq2Mn2EX",
        "colab_type": "code",
        "colab": {}
      },
      "source": [
        "base_learning_rate = 0.0001\n",
        "model.compile(optimizer=tf.keras.optimizers.Adam(lr=base_learning_rate),\n",
        "              loss='categorical_crossentropy',\n",
        "              metrics=['accuracy'])"
      ],
      "execution_count": 0,
      "outputs": []
    },
    {
      "cell_type": "markdown",
      "metadata": {
        "id": "wGPXSeCfDqYz",
        "colab_type": "text"
      },
      "source": [
        "*to save the trian model weights at every step*"
      ]
    },
    {
      "cell_type": "code",
      "metadata": {
        "id": "12jwdHEPcEvN",
        "colab_type": "code",
        "outputId": "16990ab3-e238-417a-81a7-df9e47c7b66c",
        "colab": {
          "base_uri": "https://localhost:8080/",
          "height": 34
        }
      },
      "source": [
        "checkpoint_path = \"/cp_more_layer_11.ckpt\"\n",
        "checkpoint_dir = os.path.dirname(checkpoint_path)\n",
        "print(checkpoint_dir)\n",
        "cp_callback = tf.keras.callbacks.ModelCheckpoint(checkpoint_path,\n",
        "                                                save_weights_only=True,\n",
        "                                                verbose=1)"
      ],
      "execution_count": 0,
      "outputs": [
        {
          "output_type": "stream",
          "text": [
            "/\n"
          ],
          "name": "stdout"
        }
      ]
    },
    {
      "cell_type": "markdown",
      "metadata": {
        "id": "RgUBrXbWEEBX",
        "colab_type": "text"
      },
      "source": [
        "*Train the model with steps_per_epoch = 625,\n",
        "epoch = 2*"
      ]
    },
    {
      "cell_type": "code",
      "metadata": {
        "id": "Un_GVKF7dNrn",
        "colab_type": "code",
        "outputId": "0da76368-fda4-40f0-abc1-394b4a5e4f46",
        "colab": {
          "base_uri": "https://localhost:8080/",
          "height": 153
        }
      },
      "source": [
        "model.fit_generator(train_data,\n",
        "                   steps_per_epoch = 625,\n",
        "                   validation_data = validation_data,\n",
        "                   validation_steps = 100,\n",
        "                   callbacks=[cp_callback], \n",
        "                   epochs=2)\n",
        "os.chdir(\"/content/drive/My Drive/Colab Notebooks/coin_train_x\")\n",
        "model.save_weights(\"model_300_400_11_vgg19.h5\")"
      ],
      "execution_count": 0,
      "outputs": [
        {
          "output_type": "stream",
          "text": [
            "Epoch 1/2\n",
            "624/625 [============================>.] - ETA: 5s - loss: 1.4739 - acc: 0.6071 \n",
            "Epoch 00001: saving model to /cp_more_layer_11.ckpt\n",
            "625/625 [==============================] - 3850s 6s/step - loss: 1.4717 - acc: 0.6078 - val_loss: 0.4546 - val_acc: 0.8700\n",
            "Epoch 2/2\n",
            "624/625 [============================>.] - ETA: 1s - loss: 0.2451 - acc: 0.9336\n",
            "Epoch 00002: saving model to /cp_more_layer_11.ckpt\n",
            "625/625 [==============================] - 1071s 2s/step - loss: 0.2450 - acc: 0.9336 - val_loss: 0.2787 - val_acc: 0.9304\n"
          ],
          "name": "stdout"
        }
      ]
    },
    {
      "cell_type": "code",
      "metadata": {
        "id": "34vbkW-09dRi",
        "colab_type": "code",
        "outputId": "e1c7930d-53f2-4af1-8596-b537a99ca767",
        "colab": {
          "base_uri": "https://localhost:8080/",
          "height": 153
        }
      },
      "source": [
        "model.fit_generator(train_data,\n",
        "                   steps_per_epoch = 512,\n",
        "                   validation_data = validation_data,\n",
        "                   validation_steps = 100,\n",
        "                   callbacks=[cp_callback], \n",
        "                   epochs=2)\n",
        "os.chdir(\"/content/drive/My Drive/Colab Notebooks/coin_train_x\")\n",
        "model.save_weights(\"model_300_400_11_vgg19.h5\")"
      ],
      "execution_count": 0,
      "outputs": [
        {
          "output_type": "stream",
          "text": [
            "Epoch 1/2\n",
            "511/512 [============================>.] - ETA: 1s - loss: 1.6492 - acc: 0.5540\n",
            "Epoch 00001: saving model to /cp_more_layer_11.ckpt\n",
            "512/512 [==============================] - 580s 1s/step - loss: 1.6470 - acc: 0.5545 - val_loss: 0.9859 - val_acc: 0.7562\n",
            "Epoch 2/2\n",
            "511/512 [============================>.] - ETA: 1s - loss: 0.4745 - acc: 0.8744\n",
            "Epoch 00002: saving model to /cp_more_layer_11.ckpt\n",
            "512/512 [==============================] - 577s 1s/step - loss: 0.4746 - acc: 0.8742 - val_loss: 0.5705 - val_acc: 0.8691\n"
          ],
          "name": "stdout"
        }
      ]
    },
    {
      "cell_type": "code",
      "metadata": {
        "id": "qc8uQpDwBhrQ",
        "colab_type": "code",
        "outputId": "662ade48-94d6-4795-b29c-e5e1611092b1",
        "colab": {
          "base_uri": "https://localhost:8080/",
          "height": 105
        }
      },
      "source": [
        "model.fit_generator(train_data,\n",
        "                   steps_per_epoch = 512,\n",
        "                   validation_data = validation_data,\n",
        "                   validation_steps = 100,\n",
        "                   callbacks=[cp_callback], \n",
        "                   epochs=1)\n",
        "#os.chdir(\"/content/drive/My Drive/Colab Notebooks/coin_train_x\")\n",
        "#model.save_weights(\"model_300_400_11_vgg19_2.h5\")"
      ],
      "execution_count": 0,
      "outputs": [
        {
          "output_type": "stream",
          "text": [
            "511/512 [============================>.] - ETA: 1s - loss: 0.0345 - acc: 0.9905\n",
            "Epoch 00001: saving model to /cp_more_layer_11.ckpt\n",
            "512/512 [==============================] - 1066s 2s/step - loss: 0.0345 - acc: 0.9905 - val_loss: 0.3332 - val_acc: 0.9442\n"
          ],
          "name": "stdout"
        },
        {
          "output_type": "execute_result",
          "data": {
            "text/plain": [
              "<tensorflow.python.keras.callbacks.History at 0x7fe4635683c8>"
            ]
          },
          "metadata": {
            "tags": []
          },
          "execution_count": 69
        }
      ]
    },
    {
      "cell_type": "code",
      "metadata": {
        "id": "lpqzzWAKijfQ",
        "colab_type": "code",
        "colab": {}
      },
      "source": [
        "os.chdir(\"/content/drive/My Drive/Colab Notebooks/coin_train_x\")\n",
        "model.save_weights(\"model_300_400_11_vgg19_2.h5\")"
      ],
      "execution_count": 0,
      "outputs": []
    },
    {
      "cell_type": "code",
      "metadata": {
        "id": "1AadivKIzi43",
        "colab_type": "code",
        "colab": {}
      },
      "source": [
        ""
      ],
      "execution_count": 0,
      "outputs": []
    },
    {
      "cell_type": "code",
      "metadata": {
        "id": "iDpP-bzz9NfM",
        "colab_type": "code",
        "colab": {}
      },
      "source": [
        "datage = ImageDataGenerator(rescale=1./255,\n",
        "                            shear_range=0.2,\n",
        "                            zoom_range=0.2,\n",
        "                            horizontal_flip=True)"
      ],
      "execution_count": 0,
      "outputs": []
    },
    {
      "cell_type": "code",
      "metadata": {
        "id": "hlgcg9HR72d_",
        "colab_type": "code",
        "outputId": "ef5057f7-e46a-45ad-b91e-76d14af1278e",
        "colab": {
          "base_uri": "https://localhost:8080/",
          "height": 34
        }
      },
      "source": [
        "test_data = datage.flow_from_directory('/content/drive/My Drive/Colab Notebooks/coin_test_x',\n",
        "                                    target_size = (img_width,img_hight),\n",
        "                                    class_mode = 'categorical',\n",
        "                                    batch_size=batch_size,\n",
        "                                    shuffle=True,\n",
        "                                   subset='training')"
      ],
      "execution_count": 0,
      "outputs": [
        {
          "output_type": "stream",
          "text": [
            "Found 840 images belonging to 32 classes.\n"
          ],
          "name": "stdout"
        }
      ]
    },
    {
      "cell_type": "code",
      "metadata": {
        "id": "krCuNJdH9csO",
        "colab_type": "code",
        "colab": {}
      },
      "source": [
        ""
      ],
      "execution_count": 0,
      "outputs": []
    },
    {
      "cell_type": "code",
      "metadata": {
        "id": "c0nHn3V9AMxx",
        "colab_type": "code",
        "outputId": "ac812412-9590-4fd3-8401-11e0019c7864",
        "colab": {
          "base_uri": "https://localhost:8080/",
          "height": 34
        }
      },
      "source": [
        "model.evaluate_generator(generator=test_data,\n",
        "steps=200)"
      ],
      "execution_count": 0,
      "outputs": [
        {
          "output_type": "execute_result",
          "data": {
            "text/plain": [
              "[0.28370814798778154, 0.9444907]"
            ]
          },
          "metadata": {
            "tags": []
          },
          "execution_count": 70
        }
      ]
    },
    {
      "cell_type": "code",
      "metadata": {
        "id": "nVNCvKNaHqtk",
        "colab_type": "code",
        "outputId": "bea72283-5680-43d7-c4ad-62d57f54cc2f",
        "colab": {
          "base_uri": "https://localhost:8080/",
          "height": 68
        }
      },
      "source": [
        "!ls {checkpoint_dir}"
      ],
      "execution_count": 0,
      "outputs": [
        {
          "output_type": "stream",
          "text": [
            "bin\t datalab  home\t lib64\topt   run   swift\t\t  tmp\t var\n",
            "boot\t dev\t  lib\t media\tproc  sbin  sys\t\t\t  tools\n",
            "content  etc\t  lib32  mnt\troot  srv   tensorflow-2.0.0-rc0  usr\n"
          ],
          "name": "stdout"
        }
      ]
    },
    {
      "cell_type": "code",
      "metadata": {
        "id": "qRLqII8B0blx",
        "colab_type": "code",
        "colab": {}
      },
      "source": [
        "loaded_model =  tf.keras.Sequential([\n",
        "    base_model,\n",
        "    global_average_layer,\n",
        "    prediction_layer\n",
        "])"
      ],
      "execution_count": 0,
      "outputs": []
    },
    {
      "cell_type": "code",
      "metadata": {
        "id": "MsyX6eEMNkl1",
        "colab_type": "code",
        "colab": {}
      },
      "source": [
        "base_learning_rate = 0.0001\n",
        "loaded_model.compile(optimizer=tf.keras.optimizers.Adam(lr=base_learning_rate),\n",
        "              loss='categorical_crossentropy',\n",
        "              metrics=['accuracy'])"
      ],
      "execution_count": 0,
      "outputs": []
    },
    {
      "cell_type": "code",
      "metadata": {
        "id": "g4TuHtcCBjKr",
        "colab_type": "code",
        "colab": {}
      },
      "source": [
        "os.chdir(\"/content/drive/My Drive/Colab Notebooks/coin_train_x\")\n",
        "loaded_model.load_weights(\"model_300_400_11_vgg19_2.h5\")"
      ],
      "execution_count": 0,
      "outputs": []
    },
    {
      "cell_type": "code",
      "metadata": {
        "id": "_8i405Iw0L0Z",
        "colab_type": "code",
        "outputId": "9cb9526b-9cf5-418d-f60e-19e593f7baab",
        "colab": {
          "base_uri": "https://localhost:8080/",
          "height": 34
        }
      },
      "source": [
        "loaded_model.evaluate_generator(generator=test_data,\n",
        "steps=200)"
      ],
      "execution_count": 0,
      "outputs": [
        {
          "output_type": "execute_result",
          "data": {
            "text/plain": [
              "[0.3219913749702391, 0.9287548]"
            ]
          },
          "metadata": {
            "tags": []
          },
          "execution_count": 21
        }
      ]
    },
    {
      "cell_type": "code",
      "metadata": {
        "id": "QoTvm13i6xFS",
        "colab_type": "code",
        "outputId": "5ebbfc59-3276-4892-bf53-898cbaa3e122",
        "colab": {
          "base_uri": "https://localhost:8080/",
          "height": 68
        }
      },
      "source": [
        "# loaded_model.fit_generator(train_data,\n",
        "#                    steps_per_epoch = 512,\n",
        "#                    validation_data = validation_data,\n",
        "#                    validation_steps = 100,\n",
        "#                    callbacks=[cp_callback], \n",
        "#                    epochs=1)\n",
        "# os.chdir(\"/content/drive/My Drive/Colab Notebooks/coin_train_x\")\n",
        "# model.save_weights(\"model_300_400_11_vgg19_2.h5\")"
      ],
      "execution_count": 0,
      "outputs": [
        {
          "output_type": "stream",
          "text": [
            "511/512 [============================>.] - ETA: 2s - loss: 0.1099 - acc: 0.9682\n",
            "Epoch 00001: saving model to /cp_more_layer_11.ckpt\n",
            "512/512 [==============================] - 1822s 4s/step - loss: 0.1100 - acc: 0.9682 - val_loss: 0.4984 - val_acc: 0.9101\n"
          ],
          "name": "stdout"
        }
      ]
    },
    {
      "cell_type": "code",
      "metadata": {
        "id": "TUWGXydtGLtt",
        "colab_type": "code",
        "outputId": "1b16ddd2-7237-443d-f207-25829b2a6f2c",
        "colab": {
          "base_uri": "https://localhost:8080/",
          "height": 68
        }
      },
      "source": [
        ""
      ],
      "execution_count": 0,
      "outputs": [
        {
          "output_type": "stream",
          "text": [
            "511/512 [============================>.] - ETA: 1s - loss: 0.0737 - acc: 0.9788\n",
            "Epoch 00001: saving model to /cp_more_layer_11.ckpt\n",
            "512/512 [==============================] - 602s 1s/step - loss: 0.0736 - acc: 0.9788 - val_loss: 0.4432 - val_acc: 0.9170\n"
          ],
          "name": "stdout"
        }
      ]
    },
    {
      "cell_type": "code",
      "metadata": {
        "id": "qzCFw8UMO30d",
        "colab_type": "code",
        "colab": {}
      },
      "source": [
        ""
      ],
      "execution_count": 0,
      "outputs": []
    },
    {
      "cell_type": "code",
      "metadata": {
        "id": "UFIQ5jjl6ryK",
        "colab_type": "code",
        "colab": {}
      },
      "source": [
        "pre =loaded_model.predict(test_data)"
      ],
      "execution_count": 0,
      "outputs": []
    },
    {
      "cell_type": "code",
      "metadata": {
        "id": "k7iQlMNG6_7m",
        "colab_type": "code",
        "outputId": "92df88e5-a4cf-429e-e8cf-16cdfafb7444",
        "colab": {
          "base_uri": "https://localhost:8080/",
          "height": 238
        }
      },
      "source": [
        "print(pre)"
      ],
      "execution_count": 0,
      "outputs": [
        {
          "output_type": "stream",
          "text": [
            "[[7.0775153e-18 6.2315740e-13 1.6489217e-16 ... 1.0000000e+00\n",
            "  5.4846146e-14 8.6441999e-12]\n",
            " [9.9917620e-01 2.3847322e-08 2.7899960e-09 ... 3.5976064e-09\n",
            "  1.4284453e-07 6.2494165e-09]\n",
            " [1.4427103e-15 2.4669288e-13 1.8831858e-11 ... 6.9326218e-13\n",
            "  5.5046858e-13 1.6916329e-14]\n",
            " ...\n",
            " [7.9348688e-09 1.7813227e-11 1.6832709e-10 ... 6.2383004e-10\n",
            "  2.4125796e-08 1.4191423e-05]\n",
            " [9.9973840e-01 5.3983928e-08 2.2728829e-10 ... 2.1123743e-10\n",
            "  4.6332262e-09 1.2576325e-14]\n",
            " [1.5576409e-08 2.7113544e-11 4.8964317e-08 ... 1.8729367e-07\n",
            "  4.1835233e-07 3.8672523e-09]]\n"
          ],
          "name": "stdout"
        }
      ]
    },
    {
      "cell_type": "code",
      "metadata": {
        "id": "yGJdnJdA0tVW",
        "colab_type": "code",
        "colab": {}
      },
      "source": [
        "os.chdir(\"/content/drive/My Drive/test\")"
      ],
      "execution_count": 0,
      "outputs": []
    },
    {
      "cell_type": "code",
      "metadata": {
        "id": "ssx4N-GB1nR2",
        "colab_type": "code",
        "colab": {}
      },
      "source": [
        "dic = ['australia', 'brazil', 'united_kingdom', 'canada', 'chile', 'china', 'czech_republic', 'denmark', 'spain', 'hong_kong', 'hungary', 'india', 'indonesia', 'israel', 'japan', 'south_korea', 'malaysia', 'mexico', 'new_zealand', 'norway', 'pakistan', 'philippines', 'poland', 'russia', 'singapore', 'south_africa', 'sweden', 'switzerland', 'taiwan', 'thailand', 'turkey', 'usa']"
      ],
      "execution_count": 0,
      "outputs": []
    },
    {
      "cell_type": "code",
      "metadata": {
        "id": "ZPdv54tt9o4C",
        "colab_type": "code",
        "colab": {}
      },
      "source": [
        ""
      ],
      "execution_count": 0,
      "outputs": []
    },
    {
      "cell_type": "markdown",
      "metadata": {
        "id": "HL5Ljw1_UjwE",
        "colab_type": "text"
      },
      "source": [
        ""
      ]
    },
    {
      "cell_type": "code",
      "metadata": {
        "id": "SkAWrgnD1Im4",
        "colab_type": "code",
        "outputId": "48c12c22-9a90-4d2d-9ddd-31e08f17de60",
        "colab": {
          "base_uri": "https://localhost:8080/",
          "height": 1000
        }
      },
      "source": [
        "import glob\n",
        "import csv\n",
        "idx2country = {}\n",
        "for z in range(1,33):\n",
        "  test_path = '/content/drive/My Drive/Colab Notebooks/coin_train_x/' + str(z)\n",
        "  di = {}\n",
        "  for img in os.listdir(test_path):\n",
        "    idx = img.split('.')[0]\n",
        "    l = img.split('.')[0]\n",
        "    p = l.split(' ')[-1]\n",
        "    q = p.split('_')\n",
        "    q = q[1:]\n",
        "    k = \"\"\n",
        "    if len(q) == 2:\n",
        "      k = q[0] + '_' + q[1]\n",
        "    else:\n",
        "      k = q[0]\n",
        "  \n",
        "    img_path = os.path.join(test_path,img)\n",
        "    IMG = cv2.imread(img_path)\n",
        "    IMG = cv2.resize(IMG, (256,256))\n",
        "    IMG = np.array(IMG).astype('float32') / 255.\n",
        "    IMG = np.expand_dims(IMG, axis = 0)\n",
        "    IMG = np.vstack([IMG])\n",
        "    #pred = loaded_model.predict([IMG])\n",
        "    #Id = np.where(pred.max)\n",
        "    Class = model.predict_classes(IMG, batch_size=1)\n",
        "    ID = str(int(Class[0])+1)\n",
        "    print(ID)\n",
        "    print(k)\n",
        "    idx2country[Class[0]+1] = k\n",
        "    print(\"##########################\")\n",
        "    break\n",
        "    #if ID == '0':\n",
        "      #print(\"Error\")\n",
        "    #print (idx2country[ID])\n",
        "    #di[idx] = idx2country[ID]\n"
      ],
      "execution_count": 0,
      "outputs": [
        {
          "output_type": "stream",
          "text": [
            "1\n",
            "australia\n",
            "##########################\n",
            "12\n",
            "brazil\n",
            "##########################\n",
            "23\n",
            "united_kingdom\n",
            "##########################\n",
            "27\n",
            "canada\n",
            "##########################\n",
            "28\n",
            "chile\n",
            "##########################\n",
            "29\n",
            "china\n",
            "##########################\n",
            "30\n",
            "czech_republic\n",
            "##########################\n",
            "31\n",
            "denmark\n",
            "##########################\n",
            "32\n",
            "spain\n",
            "##########################\n",
            "2\n",
            "hong_kong\n",
            "##########################\n",
            "3\n",
            "hungary\n",
            "##########################\n",
            "4\n",
            "india\n",
            "##########################\n",
            "5\n",
            "indonesia\n",
            "##########################\n",
            "6\n",
            "israel\n",
            "##########################\n",
            "7\n",
            "japan\n",
            "##########################\n",
            "8\n",
            "south_korea\n",
            "##########################\n",
            "9\n",
            "malaysia\n",
            "##########################\n",
            "10\n",
            "mexico\n",
            "##########################\n",
            "11\n",
            "new_zealand\n",
            "##########################\n",
            "13\n",
            "norway\n",
            "##########################\n",
            "14\n",
            "pakistan\n",
            "##########################\n",
            "15\n",
            "philippines\n",
            "##########################\n",
            "16\n",
            "poland\n",
            "##########################\n",
            "17\n",
            "russia\n",
            "##########################\n",
            "18\n",
            "singapore\n",
            "##########################\n",
            "19\n",
            "south_africa\n",
            "##########################\n",
            "20\n",
            "sweden\n",
            "##########################\n",
            "21\n",
            "switzerland\n",
            "##########################\n",
            "22\n",
            "taiwan\n",
            "##########################\n",
            "24\n",
            "thailand\n",
            "##########################\n",
            "25\n",
            "turkey\n",
            "##########################\n",
            "26\n",
            "usa\n",
            "##########################\n"
          ],
          "name": "stdout"
        }
      ]
    },
    {
      "cell_type": "markdown",
      "metadata": {
        "id": "gVk6UmP7Z0Qi",
        "colab_type": "text"
      },
      "source": [
        ""
      ]
    },
    {
      "cell_type": "code",
      "metadata": {
        "id": "c6yBv6oUfK2M",
        "colab_type": "code",
        "colab": {}
      },
      "source": [
        "idx2country[27] = 'canada'\n",
        "idx2country[23] = 'uniter_kingdom'\n",
        "idx2country[3] = 'hungary'\n",
        "idx2country[21] = 'switzerland'\n"
      ],
      "execution_count": 0,
      "outputs": []
    },
    {
      "cell_type": "code",
      "metadata": {
        "id": "Dx3L5CPheet2",
        "colab_type": "code",
        "outputId": "fbe4192a-1e62-47d4-c37a-3ed196964a7f",
        "colab": {
          "base_uri": "https://localhost:8080/",
          "height": 1000
        }
      },
      "source": [
        "  test_path = '/content/drive/My Drive/test'\n",
        "  di = {}\n",
        "  for img in os.listdir(test_path):\n",
        "    idx = img.split('.')[0]\n",
        "  \n",
        "    img_path = os.path.join(test_path,img)\n",
        "    IMG = cv2.imread(img_path)\n",
        "    IMG = cv2.resize(IMG, (256,256))\n",
        "    IMG = np.array(IMG).astype('float32') / 255.\n",
        "    IMG = np.expand_dims(IMG, axis = 0)\n",
        "    IMG = np.vstack([IMG])\n",
        "    #pred = loaded_model.predict([IMG])\n",
        "    #Id = np.where(pred.max)\n",
        "    Class = model.predict_classes(IMG, batch_size=1)\n",
        "    ID = (Class[0])+1\n",
        "    #print(ID)\n",
        "    #print(idx)\n",
        "    #idx2country[Class[0]+1] = k\n",
        "    #print(\"##########################\")\n",
        "    \n",
        "    #if ID == '0':\n",
        "      #print(\"Error\")\n",
        "    print (idx2country[ID])\n",
        "    di[idx] = idx2country[ID]"
      ],
      "execution_count": 0,
      "outputs": [
        {
          "output_type": "stream",
          "text": [
            "pakistan\n",
            "israel\n",
            "uniter_kingdom\n",
            "norway\n",
            "thailand\n",
            "chile\n",
            "czech_republic\n",
            "hungary\n",
            "thailand\n",
            "israel\n",
            "indonesia\n",
            "taiwan\n",
            "taiwan\n",
            "philippines\n",
            "usa\n",
            "switzerland\n",
            "singapore\n",
            "uniter_kingdom\n",
            "chile\n",
            "spain\n",
            "south_africa\n",
            "chile\n",
            "poland\n",
            "russia\n",
            "spain\n",
            "denmark\n",
            "india\n",
            "singapore\n",
            "norway\n",
            "spain\n",
            "switzerland\n",
            "denmark\n",
            "chile\n",
            "new_zealand\n",
            "malaysia\n",
            "poland\n",
            "hungary\n",
            "russia\n",
            "denmark\n",
            "new_zealand\n",
            "turkey\n",
            "israel\n",
            "turkey\n",
            "south_korea\n",
            "taiwan\n",
            "malaysia\n",
            "thailand\n",
            "hong_kong\n",
            "australia\n",
            "taiwan\n",
            "new_zealand\n",
            "mexico\n",
            "australia\n",
            "indonesia\n",
            "south_africa\n",
            "new_zealand\n",
            "czech_republic\n",
            "poland\n",
            "uniter_kingdom\n",
            "taiwan\n",
            "turkey\n",
            "poland\n",
            "denmark\n",
            "thailand\n",
            "south_korea\n",
            "mexico\n",
            "india\n",
            "uniter_kingdom\n",
            "pakistan\n",
            "thailand\n",
            "new_zealand\n",
            "uniter_kingdom\n",
            "uniter_kingdom\n",
            "canada\n",
            "china\n",
            "singapore\n",
            "russia\n",
            "denmark\n",
            "spain\n",
            "denmark\n",
            "canada\n",
            "denmark\n",
            "spain\n",
            "poland\n",
            "australia\n",
            "south_africa\n",
            "south_africa\n",
            "malaysia\n",
            "mexico\n",
            "denmark\n",
            "singapore\n",
            "hungary\n",
            "russia\n",
            "czech_republic\n",
            "brazil\n",
            "australia\n",
            "uniter_kingdom\n",
            "russia\n",
            "chile\n",
            "singapore\n",
            "chile\n",
            "malaysia\n",
            "mexico\n",
            "canada\n",
            "philippines\n",
            "czech_republic\n",
            "israel\n",
            "mexico\n",
            "singapore\n",
            "china\n",
            "norway\n",
            "turkey\n",
            "denmark\n",
            "mexico\n",
            "poland\n",
            "czech_republic\n",
            "canada\n",
            "malaysia\n",
            "switzerland\n",
            "czech_republic\n",
            "hong_kong\n",
            "singapore\n",
            "philippines\n",
            "hungary\n",
            "hong_kong\n",
            "mexico\n",
            "indonesia\n",
            "hungary\n",
            "pakistan\n",
            "denmark\n",
            "switzerland\n",
            "south_korea\n",
            "brazil\n",
            "canada\n",
            "mexico\n",
            "malaysia\n",
            "philippines\n",
            "thailand\n",
            "spain\n",
            "new_zealand\n",
            "australia\n",
            "sweden\n",
            "pakistan\n",
            "russia\n",
            "new_zealand\n",
            "russia\n",
            "new_zealand\n",
            "japan\n",
            "norway\n",
            "india\n",
            "uniter_kingdom\n",
            "norway\n",
            "denmark\n",
            "switzerland\n",
            "pakistan\n",
            "pakistan\n",
            "switzerland\n",
            "spain\n",
            "czech_republic\n",
            "turkey\n",
            "china\n",
            "poland\n",
            "denmark\n",
            "israel\n",
            "usa\n",
            "hungary\n",
            "czech_republic\n",
            "indonesia\n",
            "russia\n",
            "chile\n",
            "usa\n",
            "australia\n",
            "india\n",
            "israel\n",
            "uniter_kingdom\n",
            "japan\n",
            "czech_republic\n",
            "uniter_kingdom\n",
            "hong_kong\n",
            "australia\n",
            "czech_republic\n",
            "japan\n",
            "japan\n",
            "philippines\n",
            "indonesia\n",
            "turkey\n",
            "switzerland\n",
            "czech_republic\n",
            "hungary\n",
            "spain\n",
            "pakistan\n",
            "denmark\n",
            "new_zealand\n",
            "uniter_kingdom\n",
            "spain\n",
            "israel\n",
            "malaysia\n",
            "russia\n",
            "israel\n",
            "taiwan\n",
            "poland\n",
            "canada\n",
            "philippines\n",
            "russia\n",
            "south_africa\n",
            "south_africa\n",
            "usa\n",
            "south_africa\n",
            "canada\n",
            "indonesia\n",
            "switzerland\n",
            "chile\n",
            "uniter_kingdom\n",
            "mexico\n",
            "denmark\n",
            "singapore\n",
            "czech_republic\n",
            "new_zealand\n",
            "poland\n",
            "australia\n",
            "thailand\n",
            "sweden\n",
            "new_zealand\n",
            "usa\n",
            "japan\n",
            "canada\n",
            "sweden\n",
            "czech_republic\n",
            "south_korea\n",
            "switzerland\n",
            "turkey\n",
            "singapore\n",
            "poland\n",
            "malaysia\n",
            "hungary\n",
            "uniter_kingdom\n",
            "malaysia\n",
            "south_africa\n",
            "japan\n",
            "australia\n",
            "singapore\n",
            "australia\n",
            "czech_republic\n",
            "hungary\n",
            "brazil\n",
            "mexico\n",
            "czech_republic\n",
            "philippines\n",
            "poland\n",
            "chile\n",
            "india\n",
            "hungary\n",
            "czech_republic\n",
            "taiwan\n",
            "czech_republic\n",
            "south_africa\n",
            "israel\n",
            "thailand\n",
            "czech_republic\n",
            "switzerland\n",
            "russia\n",
            "israel\n",
            "russia\n",
            "denmark\n",
            "indonesia\n",
            "spain\n",
            "spain\n",
            "israel\n",
            "india\n",
            "australia\n",
            "russia\n",
            "japan\n",
            "india\n",
            "hungary\n",
            "india\n",
            "south_korea\n",
            "spain\n",
            "switzerland\n",
            "chile\n",
            "canada\n",
            "brazil\n",
            "israel\n",
            "australia\n",
            "indonesia\n",
            "spain\n",
            "norway\n",
            "australia\n",
            "thailand\n",
            "australia\n",
            "japan\n",
            "mexico\n",
            "turkey\n",
            "norway\n",
            "malaysia\n",
            "usa\n",
            "japan\n",
            "india\n",
            "poland\n",
            "israel\n",
            "thailand\n",
            "czech_republic\n",
            "south_korea\n",
            "uniter_kingdom\n",
            "uniter_kingdom\n",
            "poland\n",
            "singapore\n",
            "spain\n",
            "india\n",
            "singapore\n",
            "denmark\n",
            "taiwan\n",
            "south_africa\n",
            "philippines\n",
            "thailand\n",
            "sweden\n",
            "norway\n",
            "czech_republic\n",
            "south_korea\n",
            "indonesia\n",
            "south_africa\n",
            "hungary\n",
            "israel\n",
            "sweden\n",
            "czech_republic\n",
            "hungary\n",
            "czech_republic\n",
            "hong_kong\n",
            "thailand\n",
            "malaysia\n",
            "spain\n",
            "japan\n",
            "philippines\n",
            "malaysia\n",
            "israel\n",
            "pakistan\n",
            "china\n",
            "uniter_kingdom\n",
            "south_korea\n",
            "singapore\n",
            "new_zealand\n",
            "poland\n",
            "czech_republic\n",
            "indonesia\n",
            "poland\n",
            "poland\n",
            "canada\n",
            "pakistan\n",
            "pakistan\n",
            "australia\n",
            "hungary\n",
            "south_korea\n",
            "new_zealand\n",
            "switzerland\n",
            "hong_kong\n",
            "switzerland\n",
            "chile\n",
            "israel\n",
            "thailand\n",
            "spain\n",
            "switzerland\n",
            "czech_republic\n",
            "brazil\n",
            "poland\n",
            "brazil\n",
            "mexico\n",
            "south_africa\n",
            "norway\n",
            "indonesia\n",
            "thailand\n",
            "norway\n",
            "philippines\n",
            "china\n",
            "spain\n",
            "thailand\n",
            "hong_kong\n",
            "sweden\n",
            "japan\n",
            "switzerland\n",
            "canada\n",
            "uniter_kingdom\n",
            "china\n",
            "indonesia\n",
            "pakistan\n",
            "switzerland\n",
            "hungary\n",
            "new_zealand\n",
            "taiwan\n",
            "czech_republic\n",
            "usa\n",
            "uniter_kingdom\n",
            "philippines\n",
            "poland\n",
            "uniter_kingdom\n",
            "south_africa\n",
            "canada\n",
            "denmark\n",
            "russia\n",
            "spain\n",
            "sweden\n",
            "israel\n",
            "hong_kong\n",
            "china\n",
            "hong_kong\n",
            "south_africa\n",
            "china\n",
            "poland\n",
            "switzerland\n",
            "hong_kong\n",
            "pakistan\n",
            "brazil\n",
            "poland\n",
            "chile\n",
            "india\n",
            "uniter_kingdom\n",
            "spain\n",
            "hong_kong\n",
            "indonesia\n",
            "canada\n",
            "south_korea\n",
            "japan\n",
            "mexico\n",
            "thailand\n",
            "pakistan\n",
            "sweden\n",
            "uniter_kingdom\n",
            "hong_kong\n",
            "russia\n",
            "hungary\n",
            "turkey\n",
            "usa\n",
            "hungary\n",
            "mexico\n",
            "australia\n",
            "usa\n",
            "turkey\n",
            "pakistan\n",
            "philippines\n",
            "singapore\n",
            "denmark\n",
            "australia\n",
            "switzerland\n",
            "south_africa\n",
            "malaysia\n",
            "canada\n",
            "taiwan\n",
            "south_africa\n",
            "hungary\n",
            "brazil\n",
            "russia\n",
            "switzerland\n",
            "australia\n",
            "south_korea\n",
            "russia\n",
            "india\n",
            "mexico\n",
            "mexico\n",
            "turkey\n",
            "switzerland\n",
            "usa\n",
            "poland\n",
            "new_zealand\n",
            "hungary\n",
            "poland\n",
            "russia\n",
            "usa\n",
            "philippines\n",
            "denmark\n",
            "mexico\n",
            "canada\n",
            "turkey\n",
            "thailand\n",
            "sweden\n",
            "taiwan\n",
            "australia\n",
            "india\n",
            "usa\n",
            "malaysia\n",
            "indonesia\n",
            "hungary\n",
            "south_korea\n",
            "philippines\n",
            "denmark\n",
            "mexico\n",
            "mexico\n",
            "new_zealand\n",
            "south_africa\n",
            "denmark\n",
            "usa\n",
            "switzerland\n",
            "spain\n",
            "south_korea\n",
            "canada\n",
            "chile\n",
            "denmark\n",
            "poland\n",
            "israel\n",
            "new_zealand\n",
            "singapore\n",
            "philippines\n",
            "hungary\n",
            "czech_republic\n",
            "south_korea\n",
            "pakistan\n",
            "hungary\n",
            "indonesia\n",
            "philippines\n",
            "thailand\n",
            "poland\n",
            "australia\n",
            "south_korea\n",
            "thailand\n",
            "turkey\n",
            "canada\n",
            "thailand\n",
            "south_africa\n",
            "mexico\n",
            "japan\n",
            "usa\n",
            "chile\n",
            "russia\n",
            "russia\n",
            "uniter_kingdom\n",
            "spain\n",
            "brazil\n",
            "australia\n",
            "canada\n",
            "poland\n",
            "brazil\n",
            "canada\n",
            "brazil\n",
            "russia\n",
            "hong_kong\n",
            "czech_republic\n",
            "chile\n",
            "new_zealand\n",
            "pakistan\n",
            "czech_republic\n",
            "uniter_kingdom\n",
            "mexico\n",
            "norway\n",
            "poland\n",
            "south_korea\n",
            "mexico\n",
            "czech_republic\n",
            "malaysia\n",
            "poland\n",
            "hungary\n",
            "denmark\n",
            "south_africa\n",
            "turkey\n",
            "sweden\n",
            "hungary\n",
            "japan\n",
            "india\n",
            "poland\n",
            "hungary\n",
            "russia\n",
            "spain\n",
            "israel\n",
            "canada\n",
            "poland\n",
            "poland\n",
            "thailand\n",
            "south_korea\n",
            "canada\n",
            "taiwan\n",
            "south_korea\n",
            "israel\n",
            "switzerland\n",
            "south_korea\n",
            "pakistan\n",
            "japan\n",
            "switzerland\n",
            "indonesia\n",
            "israel\n",
            "poland\n",
            "turkey\n",
            "poland\n",
            "sweden\n",
            "brazil\n",
            "denmark\n",
            "switzerland\n",
            "brazil\n",
            "sweden\n",
            "thailand\n",
            "thailand\n",
            "india\n",
            "new_zealand\n",
            "hong_kong\n",
            "russia\n",
            "chile\n",
            "switzerland\n",
            "czech_republic\n",
            "singapore\n",
            "australia\n",
            "taiwan\n",
            "sweden\n",
            "philippines\n",
            "mexico\n",
            "south_africa\n",
            "poland\n",
            "turkey\n",
            "singapore\n",
            "czech_republic\n",
            "canada\n",
            "taiwan\n",
            "philippines\n",
            "south_korea\n",
            "usa\n",
            "hong_kong\n",
            "russia\n",
            "new_zealand\n",
            "russia\n",
            "australia\n",
            "mexico\n",
            "sweden\n",
            "switzerland\n",
            "taiwan\n",
            "thailand\n",
            "usa\n",
            "australia\n",
            "new_zealand\n",
            "russia\n",
            "norway\n",
            "turkey\n",
            "india\n",
            "japan\n",
            "philippines\n",
            "japan\n",
            "thailand\n",
            "philippines\n",
            "czech_republic\n",
            "poland\n",
            "denmark\n",
            "south_korea\n",
            "denmark\n",
            "south_africa\n",
            "australia\n",
            "chile\n",
            "czech_republic\n",
            "brazil\n",
            "poland\n",
            "turkey\n",
            "spain\n",
            "taiwan\n",
            "norway\n",
            "sweden\n",
            "russia\n",
            "denmark\n",
            "pakistan\n",
            "singapore\n",
            "indonesia\n",
            "sweden\n",
            "russia\n",
            "australia\n",
            "south_korea\n",
            "taiwan\n",
            "switzerland\n",
            "usa\n",
            "czech_republic\n",
            "russia\n",
            "norway\n",
            "australia\n",
            "india\n",
            "spain\n",
            "usa\n",
            "malaysia\n",
            "philippines\n",
            "denmark\n",
            "india\n",
            "thailand\n",
            "australia\n",
            "mexico\n",
            "new_zealand\n",
            "indonesia\n",
            "chile\n",
            "indonesia\n",
            "russia\n",
            "philippines\n",
            "australia\n",
            "new_zealand\n",
            "indonesia\n",
            "singapore\n",
            "japan\n",
            "israel\n",
            "israel\n",
            "india\n",
            "israel\n",
            "philippines\n",
            "philippines\n",
            "poland\n",
            "china\n",
            "uniter_kingdom\n",
            "czech_republic\n",
            "poland\n",
            "thailand\n",
            "chile\n",
            "japan\n",
            "poland\n",
            "chile\n",
            "canada\n",
            "canada\n",
            "usa\n",
            "new_zealand\n",
            "uniter_kingdom\n",
            "turkey\n",
            "malaysia\n",
            "philippines\n",
            "hungary\n",
            "chile\n",
            "malaysia\n",
            "south_korea\n",
            "turkey\n",
            "sweden\n",
            "russia\n",
            "singapore\n",
            "czech_republic\n",
            "thailand\n",
            "denmark\n",
            "philippines\n",
            "russia\n",
            "switzerland\n",
            "mexico\n",
            "japan\n",
            "canada\n",
            "usa\n",
            "south_korea\n",
            "taiwan\n",
            "spain\n",
            "spain\n",
            "norway\n",
            "thailand\n",
            "denmark\n",
            "russia\n",
            "philippines\n",
            "poland\n",
            "russia\n",
            "switzerland\n",
            "poland\n",
            "indonesia\n",
            "uniter_kingdom\n",
            "israel\n",
            "philippines\n",
            "canada\n",
            "poland\n",
            "sweden\n",
            "south_africa\n",
            "chile\n",
            "switzerland\n",
            "indonesia\n",
            "canada\n",
            "philippines\n",
            "thailand\n",
            "hungary\n",
            "malaysia\n",
            "south_africa\n",
            "new_zealand\n",
            "new_zealand\n",
            "uniter_kingdom\n",
            "philippines\n",
            "brazil\n",
            "indonesia\n",
            "denmark\n",
            "china\n",
            "india\n",
            "south_africa\n",
            "sweden\n",
            "poland\n",
            "australia\n",
            "brazil\n",
            "brazil\n",
            "chile\n",
            "uniter_kingdom\n",
            "spain\n",
            "spain\n",
            "israel\n",
            "thailand\n",
            "pakistan\n",
            "sweden\n",
            "russia\n",
            "turkey\n",
            "india\n",
            "pakistan\n",
            "china\n",
            "singapore\n",
            "russia\n",
            "uniter_kingdom\n",
            "canada\n",
            "taiwan\n",
            "hong_kong\n",
            "australia\n",
            "uniter_kingdom\n",
            "chile\n",
            "malaysia\n",
            "singapore\n",
            "poland\n",
            "india\n",
            "australia\n",
            "canada\n",
            "philippines\n",
            "hungary\n",
            "indonesia\n",
            "australia\n",
            "russia\n",
            "spain\n",
            "turkey\n",
            "spain\n",
            "sweden\n",
            "chile\n",
            "poland\n",
            "taiwan\n",
            "spain\n",
            "russia\n",
            "thailand\n",
            "malaysia\n",
            "switzerland\n",
            "spain\n",
            "australia\n",
            "japan\n",
            "chile\n",
            "india\n",
            "norway\n",
            "sweden\n",
            "hungary\n",
            "new_zealand\n",
            "indonesia\n",
            "indonesia\n",
            "switzerland\n",
            "israel\n",
            "taiwan\n",
            "hong_kong\n",
            "thailand\n",
            "australia\n",
            "singapore\n",
            "taiwan\n",
            "hungary\n",
            "malaysia\n",
            "brazil\n",
            "denmark\n",
            "czech_republic\n",
            "switzerland\n",
            "spain\n",
            "mexico\n",
            "usa\n",
            "poland\n",
            "hungary\n",
            "new_zealand\n",
            "canada\n",
            "south_korea\n",
            "china\n",
            "chile\n",
            "philippines\n",
            "uniter_kingdom\n",
            "israel\n",
            "south_africa\n",
            "thailand\n",
            "new_zealand\n",
            "brazil\n",
            "switzerland\n",
            "mexico\n",
            "china\n",
            "denmark\n",
            "japan\n",
            "canada\n",
            "norway\n",
            "canada\n",
            "chile\n",
            "singapore\n",
            "sweden\n",
            "india\n",
            "singapore\n",
            "south_africa\n",
            "indonesia\n",
            "czech_republic\n",
            "poland\n",
            "india\n",
            "india\n",
            "taiwan\n",
            "hong_kong\n",
            "poland\n",
            "spain\n",
            "spain\n",
            "china\n",
            "thailand\n",
            "israel\n",
            "norway\n",
            "india\n",
            "hong_kong\n",
            "israel\n",
            "singapore\n",
            "canada\n",
            "switzerland\n",
            "canada\n",
            "philippines\n",
            "australia\n",
            "mexico\n",
            "denmark\n",
            "sweden\n",
            "chile\n",
            "chile\n",
            "israel\n",
            "canada\n",
            "israel\n",
            "spain\n",
            "norway\n",
            "singapore\n",
            "philippines\n",
            "russia\n",
            "thailand\n",
            "spain\n",
            "spain\n",
            "hungary\n",
            "australia\n",
            "south_africa\n",
            "spain\n",
            "uniter_kingdom\n",
            "taiwan\n",
            "malaysia\n",
            "uniter_kingdom\n",
            "taiwan\n",
            "russia\n",
            "singapore\n",
            "israel\n",
            "poland\n",
            "czech_republic\n",
            "taiwan\n",
            "russia\n",
            "philippines\n",
            "mexico\n",
            "south_korea\n",
            "pakistan\n",
            "czech_republic\n",
            "india\n",
            "japan\n",
            "sweden\n",
            "mexico\n",
            "mexico\n",
            "uniter_kingdom\n",
            "russia\n",
            "south_africa\n",
            "indonesia\n",
            "norway\n",
            "poland\n",
            "israel\n",
            "mexico\n",
            "china\n",
            "switzerland\n",
            "sweden\n",
            "israel\n",
            "china\n",
            "south_africa\n",
            "uniter_kingdom\n",
            "indonesia\n",
            "poland\n",
            "poland\n",
            "denmark\n",
            "south_africa\n",
            "poland\n",
            "poland\n",
            "hungary\n",
            "china\n",
            "russia\n",
            "malaysia\n",
            "new_zealand\n",
            "singapore\n",
            "czech_republic\n",
            "uniter_kingdom\n",
            "uniter_kingdom\n",
            "chile\n",
            "thailand\n",
            "uniter_kingdom\n",
            "hungary\n",
            "turkey\n",
            "new_zealand\n",
            "thailand\n",
            "mexico\n",
            "japan\n",
            "turkey\n",
            "thailand\n",
            "switzerland\n",
            "south_korea\n",
            "pakistan\n",
            "indonesia\n",
            "south_africa\n",
            "singapore\n",
            "hong_kong\n",
            "poland\n",
            "switzerland\n",
            "turkey\n",
            "switzerland\n",
            "south_africa\n",
            "turkey\n",
            "usa\n",
            "mexico\n",
            "switzerland\n",
            "mexico\n",
            "russia\n",
            "denmark\n",
            "turkey\n",
            "spain\n",
            "thailand\n",
            "thailand\n",
            "japan\n",
            "japan\n",
            "mexico\n",
            "uniter_kingdom\n",
            "czech_republic\n",
            "taiwan\n",
            "usa\n",
            "chile\n",
            "russia\n",
            "poland\n",
            "hungary\n",
            "philippines\n",
            "poland\n",
            "mexico\n",
            "hong_kong\n",
            "australia\n",
            "singapore\n",
            "south_korea\n",
            "australia\n",
            "chile\n",
            "czech_republic\n",
            "new_zealand\n",
            "uniter_kingdom\n",
            "taiwan\n",
            "spain\n",
            "south_korea\n",
            "thailand\n",
            "singapore\n",
            "hong_kong\n",
            "new_zealand\n",
            "japan\n",
            "south_africa\n",
            "czech_republic\n",
            "japan\n",
            "south_korea\n",
            "chile\n",
            "philippines\n",
            "brazil\n",
            "spain\n",
            "philippines\n",
            "india\n",
            "czech_republic\n",
            "hungary\n",
            "japan\n",
            "australia\n",
            "taiwan\n",
            "hungary\n",
            "thailand\n",
            "switzerland\n",
            "usa\n",
            "south_africa\n",
            "norway\n",
            "denmark\n"
          ],
          "name": "stdout"
        }
      ]
    },
    {
      "cell_type": "code",
      "metadata": {
        "id": "68ga8zNVZHGu",
        "colab_type": "code",
        "colab": {}
      },
      "source": [
        ""
      ],
      "execution_count": 0,
      "outputs": []
    },
    {
      "cell_type": "code",
      "metadata": {
        "id": "Zi9al_NYYqL8",
        "colab_type": "code",
        "colab": {}
      },
      "source": [
        ""
      ],
      "execution_count": 0,
      "outputs": []
    },
    {
      "cell_type": "code",
      "metadata": {
        "id": "B748US7K2P-h",
        "colab_type": "code",
        "colab": {}
      },
      "source": [
        "import csv\n",
        "#sorted(di.keys())\n",
        "os.chdir(\"/content/drive/My Drive\")\n",
        "with open('result_coin.csv', 'w') as f:\n",
        "    writer = csv.writer(f)\n",
        "    writer.writerow(('ID', 'Country'))\n",
        "with open('result_coin.csv', 'a') as f:\n",
        "    for key in di.keys():\n",
        "      f.write(\"%s,%s\\n\"%(key,di[key]))"
      ],
      "execution_count": 0,
      "outputs": []
    },
    {
      "cell_type": "code",
      "metadata": {
        "id": "BeBSb9A31ZpX",
        "colab_type": "code",
        "outputId": "7fc7eaa8-f5cb-44e6-f8f9-92a0e939dc5a",
        "colab": {
          "base_uri": "https://localhost:8080/",
          "height": 34
        }
      },
      "source": [
        ""
      ],
      "execution_count": 0,
      "outputs": [
        {
          "output_type": "execute_result",
          "data": {
            "text/plain": [
              "'hong_kong'"
            ]
          },
          "metadata": {
            "tags": []
          },
          "execution_count": 123
        }
      ]
    },
    {
      "cell_type": "code",
      "metadata": {
        "id": "6pYqx0vxDN-p",
        "colab_type": "code",
        "outputId": "1d3ce52e-13b5-467b-d4bd-be605a11c5ca",
        "colab": {
          "base_uri": "https://localhost:8080/",
          "height": 561
        }
      },
      "source": [
        "# idx2country = {}\n",
        "# test_path = '/content/drive/My Drive/Colab Notebooks/coin_train_x'\n",
        "# for idx in os.listdir(test_path):\n",
        "#   idx_path = os.path.join(test_path,idx)\n",
        "#   #print(os.listdir(idx_path)[0])\n",
        "#   l = ((os.listdir(idx_path))[0]).split('.')[0]\n",
        "#   p = l.split(' ')[-1]\n",
        "#   q = p.split('_')\n",
        "#   q = q[1:]\n",
        "#   k = \"\"\n",
        "#   if len(q) == 2:\n",
        "#     k = q[0] + '_' + q[1]\n",
        "#   else:\n",
        "#     k = q[0]\n",
        "#   print(k)\n",
        "#   country = k\n",
        "  \n",
        "#   idx2country[idx] = country\n"
      ],
      "execution_count": 0,
      "outputs": [
        {
          "output_type": "stream",
          "text": [
            "australia\n",
            "brazil\n",
            "united_kingdom\n",
            "canada\n",
            "chile\n",
            "china\n",
            "czech_republic\n",
            "denmark\n",
            "spain\n",
            "hong_kong\n",
            "hungary\n",
            "india\n",
            "indonesia\n",
            "israel\n",
            "japan\n",
            "south_korea\n",
            "malaysia\n",
            "mexico\n",
            "new_zealand\n",
            "norway\n",
            "pakistan\n",
            "philippines\n",
            "poland\n",
            "russia\n",
            "singapore\n",
            "south_africa\n",
            "sweden\n",
            "switzerland\n",
            "taiwan\n",
            "thailand\n",
            "turkey\n",
            "usa\n"
          ],
          "name": "stdout"
        }
      ]
    },
    {
      "cell_type": "code",
      "metadata": {
        "id": "MRhPb1yXOq1y",
        "colab_type": "code",
        "outputId": "29160820-5c68-4d68-d9d5-e0fd353eab02",
        "colab": {
          "base_uri": "https://localhost:8080/",
          "height": 34
        }
      },
      "source": [
        "idx2country['3']"
      ],
      "execution_count": 0,
      "outputs": [
        {
          "output_type": "execute_result",
          "data": {
            "text/plain": [
              "'united_kingdom'"
            ]
          },
          "metadata": {
            "tags": []
          },
          "execution_count": 127
        }
      ]
    },
    {
      "cell_type": "code",
      "metadata": {
        "id": "-kawL1fEPJEn",
        "colab_type": "code",
        "colab": {}
      },
      "source": [
        ""
      ],
      "execution_count": 0,
      "outputs": []
    }
  ]
}